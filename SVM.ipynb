{
 "cells": [
  {
   "cell_type": "code",
   "execution_count": 1,
   "metadata": {},
   "outputs": [],
   "source": [
    "import numpy as np\n",
    "import sys\n",
    "sys.path.insert(1, '.')\n",
    "from svmutil import *"
   ]
  },
  {
   "cell_type": "code",
   "execution_count": 1,
   "metadata": {},
   "outputs": [],
   "source": [
    "def toSVMdata(X, y): \n",
    "    N, d = X.shape\n",
    "    X_svm = []\n",
    "    for n in range(N):\n",
    "        X_svm.append({})\n",
    "        for i in range(d):\n",
    "            X_svm[n] = {i: X[n, i]}\n",
    "    y_svm = list(y)\n",
    "    return X_svm, y_svm"
   ]
  },
  {
   "cell_type": "code",
   "execution_count": 2,
   "metadata": {},
   "outputs": [],
   "source": [
    "def linearSVM (Xtrain, ytrain, Xval, yval):\n",
    "    bestaccu = 0\n",
    "    for i in range(-2, 3):\n",
    "        c = pow(10, i)\n",
    "        # train and prediction\n",
    "        model = svm_train(ytrain, Xtrain, '-s 0 -t 0 -c {C}'.format(C = c))\n",
    "        print(\"with C =\", c, \", \", end = \"\")\n",
    "        p_label, p_acc, p_val = svm_predict(yval, Xval, model)\n",
    "        if (p_acc[0] > bestaccu):\n",
    "            bestaccu = p_acc[0]\n",
    "    bestaccu /= 100\n",
    "    return bestaccu"
   ]
  },
  {
   "cell_type": "code",
   "execution_count": null,
   "metadata": {},
   "outputs": [],
   "source": [
    "X_train_svm, y_train_svm = toSVMdata(X_train.to_numpy(), y_train_isCan.to_numpy())\n",
    "X_val_svm, y_val_svm = toSVMdata(X_val.to_numpy(), y_val_isCan.to_numpy())"
   ]
  },
  {
   "cell_type": "code",
   "execution_count": null,
   "metadata": {},
   "outputs": [],
   "source": [
    "accuracy = linearSVM(X_train_svm, y_train_svm, X_val_svm, y_val_svm)\n",
    "print(\"E_val =\", 1 - accuracy)"
   ]
  }
 ],
 "metadata": {
  "kernelspec": {
   "display_name": "Python 3",
   "language": "python",
   "name": "python3"
  },
  "language_info": {
   "codemirror_mode": {
    "name": "ipython",
    "version": 3
   },
   "file_extension": ".py",
   "mimetype": "text/x-python",
   "name": "python",
   "nbconvert_exporter": "python",
   "pygments_lexer": "ipython3",
   "version": "3.7.3"
  }
 },
 "nbformat": 4,
 "nbformat_minor": 4
}
