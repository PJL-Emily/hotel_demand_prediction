{
 "cells": [
  {
   "cell_type": "code",
   "execution_count": 1,
   "metadata": {},
   "outputs": [],
   "source": [
    "import numpy as np\n",
    "import sys\n",
    "sys.path.insert(1, '.')\n",
    "from svmutil import *"
   ]
  },
  {
   "cell_type": "code",
   "execution_count": 2,
   "metadata": {},
   "outputs": [],
   "source": [
    "def toSVMdata(X, y): \n",
    "    N, d = X_train.shape\n",
    "    X_svm = []\n",
    "    for n in range(N):\n",
    "        X_svm.append({})\n",
    "        for i in range(d):\n",
    "            X_svm[n].update({i: X_train[n,i]}) \n",
    "    y_svm = list(y)\n",
    "    return X_svm, y_svm"
   ]
  },
  {
   "cell_type": "code",
   "execution_count": 3,
   "metadata": {},
   "outputs": [],
   "source": [
    "def SVM (Xtrain, ytrain, Xval, yval):\n",
    "    bestaccu = 0\n",
    "    for i in range(-2, 3):\n",
    "        c = pow(10, i)\n",
    "        # turn into SVM data form\n",
    "        Xval, yval = toSVMdata(Xval, yval)\n",
    "        Xtrain, ytrain = toSVMdata(Xtrain, ytrain)\n",
    "        # train and prediction\n",
    "        model = svm_train(ytrain, Xtrain, '-s 0 -t 0 -c {C}'.format(C = c))\n",
    "        print(\"with C =\", c, \",\", end = \"\")\n",
    "        p_label, p_acc, p_val = svm_predict(yval, Xval, model[j])\n",
    "        if (p_acc[0] > bestaccu):\n",
    "            bestaccu = p_acc[0]\n",
    "    bestaccu /= 100\n",
    "    return bestaccu"
   ]
  },
  {
   "cell_type": "code",
   "execution_count": null,
   "metadata": {},
   "outputs": [],
   "source": []
  }
 ],
 "metadata": {
  "kernelspec": {
   "display_name": "Python 3",
   "language": "python",
   "name": "python3"
  },
  "language_info": {
   "codemirror_mode": {
    "name": "ipython",
    "version": 3
   },
   "file_extension": ".py",
   "mimetype": "text/x-python",
   "name": "python",
   "nbconvert_exporter": "python",
   "pygments_lexer": "ipython3",
   "version": "3.7.3"
  }
 },
 "nbformat": 4,
 "nbformat_minor": 4
}
