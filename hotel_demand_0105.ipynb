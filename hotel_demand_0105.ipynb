{
 "cells": [
  {
   "cell_type": "markdown",
   "metadata": {},
   "source": [
    "## 0.0 read data"
   ]
  },
  {
   "cell_type": "code",
   "execution_count": 261,
   "metadata": {},
   "outputs": [],
   "source": [
    "import numpy as np\n",
    "from numpy import linalg\n",
    "import pandas as pd\n",
    "import scipy\n",
    "import matplotlib.pyplot as plt\n",
    "from sklearn.pipeline import make_pipeline\n",
    "from sklearn.preprocessing import StandardScaler\n",
    "from sklearn.neighbors import KNeighborsClassifier\n",
    "import time\n",
    "from datetime import *\n",
    "import copy"
   ]
  },
  {
   "cell_type": "code",
   "execution_count": 262,
   "metadata": {},
   "outputs": [],
   "source": [
    "df_origin = pd.read_csv('./data/train.csv')\n",
    "label = pd.read_csv('./data/train_label.csv')\n",
    "df_test = pd.read_csv('./data/test.csv')"
   ]
  },
  {
   "cell_type": "markdown",
   "metadata": {},
   "source": [
    "## concate"
   ]
  },
  {
   "cell_type": "code",
   "execution_count": 263,
   "metadata": {},
   "outputs": [],
   "source": [
    "y_isCan = df_origin['is_canceled']\n",
    "y_adr = df_origin['adr']\n",
    "df_origin = df_origin.drop(columns=['reservation_status', 'reservation_status_date', 'is_canceled', 'adr'])"
   ]
  },
  {
   "cell_type": "code",
   "execution_count": 264,
   "metadata": {},
   "outputs": [],
   "source": [
    "concate = pd.concat([df_origin,df_test],axis=0).reset_index(drop = True)\n"
   ]
  },
  {
   "cell_type": "code",
   "execution_count": 265,
   "metadata": {},
   "outputs": [
    {
     "data": {
      "text/plain": [
       "ID                                     0\n",
       "hotel                                  0\n",
       "lead_time                              0\n",
       "arrival_date_year                      0\n",
       "arrival_date_month                     0\n",
       "arrival_date_week_number               0\n",
       "arrival_date_day_of_month              0\n",
       "stays_in_weekend_nights                0\n",
       "stays_in_week_nights                   0\n",
       "adults                                 0\n",
       "children                               4\n",
       "babies                                 0\n",
       "meal                                   0\n",
       "country                              488\n",
       "market_segment                         0\n",
       "distribution_channel                   0\n",
       "is_repeated_guest                      0\n",
       "previous_cancellations                 0\n",
       "previous_bookings_not_canceled         0\n",
       "reserved_room_type                     0\n",
       "assigned_room_type                     0\n",
       "booking_changes                        0\n",
       "deposit_type                           0\n",
       "agent                              16340\n",
       "company                           112593\n",
       "days_in_waiting_list                   0\n",
       "customer_type                          0\n",
       "required_car_parking_spaces            0\n",
       "total_of_special_requests              0\n",
       "dtype: int64"
      ]
     },
     "execution_count": 265,
     "metadata": {},
     "output_type": "execute_result"
    }
   ],
   "source": [
    "concate.isna().sum()"
   ]
  },
  {
   "cell_type": "markdown",
   "metadata": {},
   "source": [
    "### dropna"
   ]
  },
  {
   "cell_type": "code",
   "execution_count": 266,
   "metadata": {},
   "outputs": [],
   "source": [
    "concate = concate.drop(columns=['country', 'agent', 'company'])"
   ]
  },
  {
   "cell_type": "markdown",
   "metadata": {},
   "source": [
    "### country填median"
   ]
  },
  {
   "cell_type": "code",
   "execution_count": 267,
   "metadata": {},
   "outputs": [],
   "source": [
    "concate = concate.fillna(concate.children.median())"
   ]
  },
  {
   "cell_type": "code",
   "execution_count": 268,
   "metadata": {},
   "outputs": [],
   "source": [
    "concate['arrival_date_month'] = concate['arrival_date_month'].map({'January':1, 'February': 2, 'March':3, 'April':4, 'May':5, 'June':6, 'July': 7, 'August':8, 'September':9, 'October': 10, 'November': 11, 'December':12})\n",
    "concate.arrival_date_month = concate.arrival_date_month.astype(int)"
   ]
  },
  {
   "cell_type": "markdown",
   "metadata": {},
   "source": [
    "### 加星期幾"
   ]
  },
  {
   "cell_type": "code",
   "execution_count": 269,
   "metadata": {},
   "outputs": [],
   "source": [
    "def dateToWeekDay(df):\n",
    "    year = df.arrival_date_year\n",
    "    month = df.arrival_date_month\n",
    "    day = df.arrival_date_day_of_month\n",
    "    n = len(df)\n",
    "    weekDays = [0 for i in range(n)]\n",
    "    for i in range(n):\n",
    "        weekDays[i] = date(year[i], month[i], day[i]).weekday()   \n",
    "    # return 1~7\n",
    "    df1 = copy.deepcopy(df)\n",
    "#     df1 = df1.rename(columns = {'arrival_date_year': 'year', 'arrival_date_month': 'month'})\n",
    "    df1.insert(6,'weekDay', weekDays)\n",
    "    df1 = pd.get_dummies(df1, columns = ['weekDay'])\n",
    "    print(df1.columns)\n",
    "    df1 = df1.drop(columns = ['weekDay_6']) # remove last one\n",
    "    return df1;"
   ]
  },
  {
   "cell_type": "code",
   "execution_count": 270,
   "metadata": {},
   "outputs": [
    {
     "name": "stdout",
     "output_type": "stream",
     "text": [
      "Index(['ID', 'hotel', 'lead_time', 'arrival_date_year', 'arrival_date_month',\n",
      "       'arrival_date_week_number', 'arrival_date_day_of_month',\n",
      "       'stays_in_weekend_nights', 'stays_in_week_nights', 'adults', 'children',\n",
      "       'babies', 'meal', 'market_segment', 'distribution_channel',\n",
      "       'is_repeated_guest', 'previous_cancellations',\n",
      "       'previous_bookings_not_canceled', 'reserved_room_type',\n",
      "       'assigned_room_type', 'booking_changes', 'deposit_type',\n",
      "       'days_in_waiting_list', 'customer_type', 'required_car_parking_spaces',\n",
      "       'total_of_special_requests', 'weekDay_0', 'weekDay_1', 'weekDay_2',\n",
      "       'weekDay_3', 'weekDay_4', 'weekDay_5', 'weekDay_6'],\n",
      "      dtype='object')\n"
     ]
    }
   ],
   "source": [
    "concate = dateToWeekDay(concate)"
   ]
  },
  {
   "cell_type": "markdown",
   "metadata": {},
   "source": [
    "### getdummy"
   ]
  },
  {
   "cell_type": "code",
   "execution_count": 271,
   "metadata": {},
   "outputs": [
    {
     "name": "stdout",
     "output_type": "stream",
     "text": [
      "Index(['ID', 'lead_time', 'arrival_date_year', 'arrival_date_week_number',\n",
      "       'arrival_date_day_of_month', 'stays_in_weekend_nights',\n",
      "       'stays_in_week_nights', 'adults', 'children', 'babies',\n",
      "       'is_repeated_guest', 'previous_cancellations',\n",
      "       'previous_bookings_not_canceled', 'booking_changes',\n",
      "       'days_in_waiting_list', 'required_car_parking_spaces',\n",
      "       'total_of_special_requests', 'weekDay_0', 'weekDay_1', 'weekDay_2',\n",
      "       'weekDay_3', 'weekDay_4', 'weekDay_5', 'hotel_City Hotel',\n",
      "       'hotel_Resort Hotel', 'arrival_date_month_1', 'arrival_date_month_2',\n",
      "       'arrival_date_month_3', 'arrival_date_month_4', 'arrival_date_month_5',\n",
      "       'arrival_date_month_6', 'arrival_date_month_7', 'arrival_date_month_8',\n",
      "       'arrival_date_month_9', 'arrival_date_month_10',\n",
      "       'arrival_date_month_11', 'arrival_date_month_12', 'meal_BB', 'meal_FB',\n",
      "       'meal_HB', 'meal_SC', 'meal_Undefined', 'market_segment_Aviation',\n",
      "       'market_segment_Complementary', 'market_segment_Corporate',\n",
      "       'market_segment_Direct', 'market_segment_Groups',\n",
      "       'market_segment_Offline TA/TO', 'market_segment_Online TA',\n",
      "       'market_segment_Undefined', 'distribution_channel_Corporate',\n",
      "       'distribution_channel_Direct', 'distribution_channel_GDS',\n",
      "       'distribution_channel_TA/TO', 'distribution_channel_Undefined',\n",
      "       'reserved_room_type_A', 'reserved_room_type_B', 'reserved_room_type_C',\n",
      "       'reserved_room_type_D', 'reserved_room_type_E', 'reserved_room_type_F',\n",
      "       'reserved_room_type_G', 'reserved_room_type_H', 'reserved_room_type_L',\n",
      "       'reserved_room_type_P', 'assigned_room_type_A', 'assigned_room_type_B',\n",
      "       'assigned_room_type_C', 'assigned_room_type_D', 'assigned_room_type_E',\n",
      "       'assigned_room_type_F', 'assigned_room_type_G', 'assigned_room_type_H',\n",
      "       'assigned_room_type_I', 'assigned_room_type_K', 'assigned_room_type_L',\n",
      "       'assigned_room_type_P', 'deposit_type_No Deposit',\n",
      "       'deposit_type_Non Refund', 'deposit_type_Refundable',\n",
      "       'customer_type_Contract', 'customer_type_Group',\n",
      "       'customer_type_Transient', 'customer_type_Transient-Party'],\n",
      "      dtype='object')\n"
     ]
    }
   ],
   "source": [
    "# Creating dummy variables:\n",
    "concate = pd.get_dummies(concate, columns=['hotel', 'arrival_date_month', 'meal', 'market_segment', 'distribution_channel', \\\n",
    "                                 'reserved_room_type', 'assigned_room_type', 'deposit_type', 'customer_type'])\n",
    "print(concate.columns)"
   ]
  },
  {
   "cell_type": "code",
   "execution_count": 272,
   "metadata": {},
   "outputs": [],
   "source": [
    "concate = concate.drop(columns=['hotel_Resort Hotel', 'arrival_date_month_9', 'meal_Undefined', 'market_segment_Undefined', 'distribution_channel_Undefined', 'reserved_room_type_P', 'assigned_room_type_P',  'deposit_type_Refundable', 'customer_type_Transient-Party'])"
   ]
  },
  {
   "cell_type": "code",
   "execution_count": 273,
   "metadata": {},
   "outputs": [
    {
     "data": {
      "text/plain": [
       "ID                           0\n",
       "lead_time                    0\n",
       "arrival_date_year            0\n",
       "arrival_date_week_number     0\n",
       "arrival_date_day_of_month    0\n",
       "                            ..\n",
       "deposit_type_No Deposit      0\n",
       "deposit_type_Non Refund      0\n",
       "customer_type_Contract       0\n",
       "customer_type_Group          0\n",
       "customer_type_Transient      0\n",
       "Length: 75, dtype: int64"
      ]
     },
     "execution_count": 273,
     "metadata": {},
     "output_type": "execute_result"
    }
   ],
   "source": [
    "concate.isna().sum()"
   ]
  },
  {
   "cell_type": "markdown",
   "metadata": {},
   "source": [
    "### 切成train, validate, test"
   ]
  },
  {
   "cell_type": "code",
   "execution_count": 274,
   "metadata": {},
   "outputs": [],
   "source": [
    "# y_isCan, y_adr 要切train, val\n",
    "y_train_isCan = y_isCan.loc[:74842]\n",
    "y_train_adr = y_adr.loc[:74842]\n",
    "y_val_isCan = y_isCan.loc[74843:]\n",
    "y_val_adr = y_isCan.loc[74843:]\n",
    "\n",
    "#concate 要切train, val, test\n",
    "X_train = concate.loc[:74842, :]\n",
    "X_val = concate.loc[74843:91530, :]\n",
    "X_test = concate.loc[91530:, :]"
   ]
  },
  {
   "cell_type": "code",
   "execution_count": 275,
   "metadata": {},
   "outputs": [
    {
     "name": "stdout",
     "output_type": "stream",
     "text": [
      "74843\n",
      "74843\n",
      "16688\n",
      "16688\n",
      "74843\n",
      "16688\n",
      "27860\n"
     ]
    }
   ],
   "source": [
    "print(len(y_train_isCan))\n",
    "print(len(y_train_adr))\n",
    "print(len(y_val_isCan))\n",
    "print(len(y_val_adr))\n",
    "print(len(X_train))\n",
    "print(len(X_val))\n",
    "print(len(X_test))"
   ]
  },
  {
   "cell_type": "markdown",
   "metadata": {},
   "source": [
    "### 找index/tree"
   ]
  },
  {
   "cell_type": "markdown",
   "metadata": {},
   "source": [
    "df_2016 = df_origin[df_origin['arrival_date_year'] == 2016]\n",
    "df_201611 = df_2016[df_2016['arrival_date_month'] == 11]\n",
    "df_20161130 = df_201611[df_201611['arrival_date_day_of_month'] == 30]"
   ]
  },
  {
   "cell_type": "markdown",
   "metadata": {},
   "source": [
    "df_20161130"
   ]
  },
  {
   "cell_type": "markdown",
   "metadata": {},
   "source": [
    "Split data at index 74843\n",
    "\n",
    ":74842 -> train\n",
    "\n",
    "74843: -> val"
   ]
  },
  {
   "cell_type": "markdown",
   "metadata": {},
   "source": [
    "df_tree = df_origin.fillna(df.children.median())\n",
    "df_tree = df_tree.drop(columns = ['country', 'agent', 'company', 'reservation_status_date'])"
   ]
  },
  {
   "cell_type": "markdown",
   "metadata": {},
   "source": [
    "df_tree.dtypes "
   ]
  },
  {
   "cell_type": "markdown",
   "metadata": {},
   "source": [
    "# meal, market_segment, distribution_channel, reserved_room_type, assigned_room_type, deposit_type, customer_type\n",
    "df_tree['meal'] = df_tree['meal'].map({'BB':1, 'FB': 2, 'HB':3, 'SC':4, 'Undefined':5})\n",
    "df_tree['market_segment'] = df_tree['market_segment'].map({'Aviation':1, 'Complementary': 2, 'Corporate':3, 'Direct':4, 'Groups':5, 'Offline TA/TO':6, 'Online TA':7, 'Undefined': 8})\n",
    "df_tree['distribution_channel'] = df_tree['distribution_channel'].map({'Corporate':1, 'Direct': 2, 'GDS':3, 'TA/TO':4, 'Undefined':5})\n",
    "df_tree['reserved_room_type'] = df_tree['reserved_room_type'].map({'A':1, 'B': 2, 'C':3, 'D':4, 'E':5, 'F':6, 'G':7, 'H':8, 'L':9, 'P':10})\n",
    "df_tree['assigned_room_type'] = df_tree['assigned_room_type'].map({'A':1, 'B': 2, 'C':3, 'D':4, 'E':5, 'F':6, 'G':7, 'H':8, 'L':9, 'P':10, 'I':11, 'K':12})\n",
    "df_tree['deposit_type'] = df_tree['deposit_type'].map({'No Deposit':1, 'Non Refund': 2, 'Refundable':3})\n",
    "df_tree['customer_type'] = df_tree['customer_type'].map({'Contract':1, 'Group': 2, 'Transient':3, 'Transient-Party':4})"
   ]
  },
  {
   "cell_type": "markdown",
   "metadata": {},
   "source": [
    "df_tree['meal']"
   ]
  },
  {
   "cell_type": "markdown",
   "metadata": {},
   "source": [
    "df_tree.dtypes "
   ]
  },
  {
   "cell_type": "markdown",
   "metadata": {},
   "source": [
    "df_tree.isna().sum()"
   ]
  },
  {
   "cell_type": "markdown",
   "metadata": {},
   "source": [
    "train_tree = df_tree.loc[:74842, :]\n",
    "val_tree = df_tree.loc[74843:, :]\n",
    "\n",
    "X_train_tree = train_tree.drop(columns = ['is_canceled', 'adr'])\n",
    "y_train_tree_isCan = train_tree['is_canceled']\n",
    "y_train_tree_adr = train_tree['adr']\n",
    "X_val_tree = val_tree.drop(columns = ['is_canceled', 'adr'])\n",
    "y_val_tree_isCan = val_tree['is_canceled']\n",
    "y_val_tree_adr = val_tree['adr']"
   ]
  },
  {
   "cell_type": "markdown",
   "metadata": {},
   "source": [
    "## Basic analysis"
   ]
  },
  {
   "cell_type": "markdown",
   "metadata": {},
   "source": [
    "#### Target: \"is_canceled\"\n",
    "\n",
    "Steps:\n",
    "\n",
    "1. Predict \"is_canceled\" by attributes in each tuple\n",
    "\n",
    "2. Multiply predictions by \"ADR\"\n",
    "\n",
    "3. Group by date\n",
    "\n",
    "4. Predict classification of the daily revenue to the labels on $y$.\n"
   ]
  },
  {
   "cell_type": "markdown",
   "metadata": {},
   "source": [
    "#### Building X and y"
   ]
  },
  {
   "cell_type": "markdown",
   "metadata": {},
   "source": [
    "#### Splitting train/validation\n",
    "(isCan/adr)"
   ]
  },
  {
   "cell_type": "markdown",
   "metadata": {},
   "source": [
    "Split data at index 74843\n",
    "\n",
    ":74842 -> train\n",
    "\n",
    "74843: -> val"
   ]
  },
  {
   "cell_type": "code",
   "execution_count": 59,
   "metadata": {},
   "outputs": [
    {
     "data": {
      "text/plain": [
       "0    0.638163\n",
       "1    0.361837\n",
       "Name: is_canceled, dtype: float64"
      ]
     },
     "execution_count": 59,
     "metadata": {},
     "output_type": "execute_result"
    }
   ],
   "source": [
    "y_train_isCan.value_counts(normalize=True)"
   ]
  },
  {
   "cell_type": "markdown",
   "metadata": {},
   "source": [
    "The cancel rate is around 35%."
   ]
  },
  {
   "cell_type": "code",
   "execution_count": 60,
   "metadata": {},
   "outputs": [
    {
     "data": {
      "text/plain": [
       "0.000000      75\n",
       "47.000000      5\n",
       "31.000000      5\n",
       "42.000000      5\n",
       "16.000000      4\n",
       "              ..\n",
       "139.827646     1\n",
       "79.667069      1\n",
       "115.188575     1\n",
       "151.865524     1\n",
       "50.842307      1\n",
       "Name: adr, Length: 74732, dtype: int64"
      ]
     },
     "execution_count": 60,
     "metadata": {},
     "output_type": "execute_result"
    }
   ],
   "source": [
    "y_train_adr.value_counts()"
   ]
  },
  {
   "cell_type": "markdown",
   "metadata": {},
   "source": [
    "### Computing accuracy "
   ]
  },
  {
   "cell_type": "code",
   "execution_count": 262,
   "metadata": {},
   "outputs": [],
   "source": [
    "from sklearn.metrics import accuracy_score\n",
    "def computeAccuracy(X, y, y_result): #x: test revenue, y: test label\n",
    "    print(\"Accuracy =\", accuracy_score(y, y_result))\n",
    "    print(\"Number of mislabeled points out of a total %d points : %d\"% (X.shape[0],(y != y_result).sum()))\n",
    "    print(\"E_val = \", (y != y_result).sum() / X.shape[0])\n",
    "    \n",
    "from sklearn.metrics import r2_score\n",
    "def calculateRsquare(X, y, y_result): #x: test revenue, y: test label\n",
    "    print(\"R square =\", r2_score(y, y_result))"
   ]
  },
  {
   "cell_type": "markdown",
   "metadata": {},
   "source": [
    "## Predict is_can"
   ]
  },
  {
   "cell_type": "markdown",
   "metadata": {},
   "source": [
    "### KNN"
   ]
  },
  {
   "cell_type": "code",
   "execution_count": 54,
   "metadata": {},
   "outputs": [],
   "source": [
    "def trainKNN(X_train_df, y_train, k, X_val_df, y_val):\n",
    "    print(\"Pre-processing...\")\n",
    "#     X_train_feat = X_train_df[['ID', 'lead_time', 'previous_cancellations', \\\n",
    "#                             'previous_bookings_not_canceled', 'booking_changes', \\\n",
    "#                             'days_in_waiting_list', 'required_car_parking_spaces', \\\n",
    "#                             'total_of_special_requests', 'market_segment_Groups', 'deposit_type_Non Refund']]\n",
    "#     X_train_feat = X_train_df[['ID', 'lead_time', 'previous_cancellations', 'days_in_waiting_list', 'deposit_type_Non Refund']]\n",
    "#     X_train_feat = X_train_feat.to_numpy()\n",
    "    X_train_feat = X_train_df.to_numpy()\n",
    "    knn = KNeighborsClassifier(n_neighbors = k)\n",
    "    print(\"Fitting...\")\n",
    "    knn_best = knn.fit(X_train_feat, y_train)\n",
    "#     X_val_feat = X_val_df[['ID', 'lead_time', 'previous_cancellations', \\\n",
    "#                             'previous_bookings_not_canceled', 'booking_changes', \\\n",
    "#                             'days_in_waiting_list', 'required_car_parking_spaces', \\\n",
    "#                             'total_of_special_requests', 'market_segment_Groups', 'deposit_type_Non Refund']]\n",
    "#     X_val_feat = X_val_df[['distribution_channel_GDS', 'reserved_room_type_B', 'reserved_room_type_L', 'assigned_room_type_B', 'assigned_room_type_L']]\n",
    "#     X_val_feat = X_val_feat.to_numpy()\n",
    "    X_val_feat = X_val_df.to_numpy()\n",
    "    print(\"Predicting...\")\n",
    "    y_pred = knn_best.predict(X_val_feat)\n",
    "    print(\"Calculating accuracy...\")\n",
    "    sc = knn_best.score(X_val_feat, y_val, sample_weight=None)\n",
    "    return y_pred, sc;"
   ]
  },
  {
   "cell_type": "code",
   "execution_count": 55,
   "metadata": {},
   "outputs": [
    {
     "ename": "NameError",
     "evalue": "name 'train_KNN_isCan' is not defined",
     "output_type": "error",
     "traceback": [
      "\u001b[1;31m---------------------------------------------------------------------------\u001b[0m",
      "\u001b[1;31mNameError\u001b[0m                                 Traceback (most recent call last)",
      "\u001b[1;32m<ipython-input-55-066845b90d1a>\u001b[0m in \u001b[0;36m<module>\u001b[1;34m\u001b[0m\n\u001b[1;32m----> 1\u001b[1;33m \u001b[0my_pred\u001b[0m\u001b[1;33m,\u001b[0m \u001b[0msc\u001b[0m \u001b[1;33m=\u001b[0m \u001b[0mtrain_KNN_isCan\u001b[0m\u001b[1;33m(\u001b[0m\u001b[0mX_train\u001b[0m\u001b[1;33m,\u001b[0m \u001b[0my_train_isCan\u001b[0m\u001b[1;33m,\u001b[0m \u001b[1;36m5\u001b[0m\u001b[1;33m,\u001b[0m \u001b[0mX_val\u001b[0m\u001b[1;33m,\u001b[0m \u001b[0my_val_isCan\u001b[0m\u001b[1;33m)\u001b[0m\u001b[1;33m\u001b[0m\u001b[0m\n\u001b[0m",
      "\u001b[1;31mNameError\u001b[0m: name 'train_KNN_isCan' is not defined"
     ]
    }
   ],
   "source": [
    "y_pred, sc = train_KNN_isCan(X_train, y_train_isCan, 5, X_val, y_val_isCan)"
   ]
  },
  {
   "cell_type": "code",
   "execution_count": 185,
   "metadata": {},
   "outputs": [
    {
     "data": {
      "text/plain": [
       "0.6679050814956855"
      ]
     },
     "execution_count": 185,
     "metadata": {},
     "output_type": "execute_result"
    }
   ],
   "source": [
    "sc"
   ]
  },
  {
   "cell_type": "code",
   "execution_count": 187,
   "metadata": {},
   "outputs": [
    {
     "name": "stdout",
     "output_type": "stream",
     "text": [
      "Accuracy = 0.6679050814956855\n",
      "Number of mislabeled points out of a total 16688 points : 5542\n",
      "E_val =  0.3320949185043145\n"
     ]
    }
   ],
   "source": [
    "computeAccuracy(X_val, y_val_isCan, y_pred)"
   ]
  },
  {
   "cell_type": "markdown",
   "metadata": {},
   "source": [
    "### Desicion Stump"
   ]
  },
  {
   "cell_type": "code",
   "execution_count": 315,
   "metadata": {},
   "outputs": [],
   "source": [
    "from sklearn import tree\n",
    "\n",
    "def trainDecisionStump(X_train, y_train, X_val):\n",
    "    clf = tree.DecisionTreeClassifier().fit(X_train, y_train)\n",
    "    y_result = clf.predict(X_val)\n",
    "    return(y_result)\n",
    "\n",
    "def trainDecisionStumpRegressor(X_train, y_train, X_val):\n",
    "    clf = tree.DecisionTreeRegressor(max_depth=10).fit(X_train, y_train)\n",
    "    y_result = clf.predict(X_val)\n",
    "    return(y_result)"
   ]
  },
  {
   "cell_type": "code",
   "execution_count": 81,
   "metadata": {},
   "outputs": [],
   "source": [
    "y_result = trainDecisionStump(X_train, y_train_isCan, X_val)"
   ]
  },
  {
   "cell_type": "code",
   "execution_count": 82,
   "metadata": {},
   "outputs": [
    {
     "name": "stdout",
     "output_type": "stream",
     "text": [
      "Accuracy = 0.6718600191754555\n",
      "Number of mislabeled points out of a total 16688 points : 5476\n",
      "E_val =  0.3281399808245446\n"
     ]
    }
   ],
   "source": [
    "computeAccuracy(X_val, y_val_isCan, y_result)"
   ]
  },
  {
   "cell_type": "markdown",
   "metadata": {},
   "source": [
    "#### tree isCan"
   ]
  },
  {
   "cell_type": "code",
   "execution_count": 260,
   "metadata": {},
   "outputs": [],
   "source": [
    "y_result = trainDecisionStump(X_train_tree, y_train_tree_isCan, X_val_tree)"
   ]
  },
  {
   "cell_type": "code",
   "execution_count": 263,
   "metadata": {},
   "outputs": [
    {
     "name": "stdout",
     "output_type": "stream",
     "text": [
      "Accuracy = 0.652984180249281\n",
      "Number of mislabeled points out of a total 16688 points : 5791\n",
      "E_val =  0.3470158197507191\n"
     ]
    }
   ],
   "source": [
    "computeAccuracy(X_val_tree, y_val_tree_isCan, y_result)"
   ]
  },
  {
   "cell_type": "markdown",
   "metadata": {},
   "source": [
    "#### tree adr"
   ]
  },
  {
   "cell_type": "code",
   "execution_count": 316,
   "metadata": {},
   "outputs": [],
   "source": [
    "y_result = trainDecisionStumpRegressor(X_train_tree, y_train_tree_adr, X_val_tree)"
   ]
  },
  {
   "cell_type": "code",
   "execution_count": 317,
   "metadata": {},
   "outputs": [
    {
     "name": "stdout",
     "output_type": "stream",
     "text": [
      "R square = 0.4756839274931203\n"
     ]
    }
   ],
   "source": [
    "calculateRsquare(X_val_tree, y_val_tree_adr, y_result)"
   ]
  },
  {
   "cell_type": "markdown",
   "metadata": {},
   "source": [
    "### Logistic Regression"
   ]
  },
  {
   "cell_type": "markdown",
   "metadata": {},
   "source": [
    "使用 L2 regularization, 搭配上'sag'solver"
   ]
  },
  {
   "cell_type": "code",
   "execution_count": 117,
   "metadata": {},
   "outputs": [],
   "source": [
    "from sklearn.linear_model import LogisticRegression\n",
    "from sklearn.metrics import accuracy_score\n",
    "\n",
    "\n",
    "### solver: lbfgs, newton-cg, sag\n",
    "def trainLogisticRegression(X_train, y_train, X_val):\n",
    "    clf = LogisticRegression(random_state=0, penalty='l2', solver='newton-cg', multi_class='multinomial').fit(X_train, y_train)\n",
    "    y_result = clf.predict(X_val)\n",
    "    return(y_result)"
   ]
  },
  {
   "cell_type": "code",
   "execution_count": 118,
   "metadata": {},
   "outputs": [
    {
     "name": "stderr",
     "output_type": "stream",
     "text": [
      "C:\\Users\\user\\Anaconda3\\lib\\site-packages\\scipy\\optimize\\linesearch.py:477: LineSearchWarning: The line search algorithm did not converge\n",
      "  warn('The line search algorithm did not converge', LineSearchWarning)\n",
      "C:\\Users\\user\\Anaconda3\\lib\\site-packages\\scipy\\optimize\\linesearch.py:327: LineSearchWarning: The line search algorithm did not converge\n",
      "  warn('The line search algorithm did not converge', LineSearchWarning)\n",
      "C:\\Users\\user\\Anaconda3\\lib\\site-packages\\sklearn\\utils\\optimize.py:212: ConvergenceWarning: newton-cg failed to converge. Increase the number of iterations.\n",
      "  \"number of iterations.\", ConvergenceWarning)\n"
     ]
    }
   ],
   "source": [
    "y_result = trainLogisticRegression(X_train, y_train_isCan, X_val)"
   ]
  },
  {
   "cell_type": "code",
   "execution_count": 119,
   "metadata": {},
   "outputs": [
    {
     "name": "stdout",
     "output_type": "stream",
     "text": [
      "Accuracy = 0.7870925215723873\n",
      "Number of mislabeled points out of a total 16688 points : 3553\n",
      "E_val =  0.21290747842761265\n"
     ]
    }
   ],
   "source": [
    "computeAccuracy(X_val, y_val_isCan, y_result)"
   ]
  },
  {
   "cell_type": "markdown",
   "metadata": {},
   "source": [
    "### SVM"
   ]
  },
  {
   "cell_type": "code",
   "execution_count": null,
   "metadata": {},
   "outputs": [],
   "source": [
    "import numpy as np\n",
    "import sys\n",
    "sys.path.insert(1, '.')\n",
    "from svmutil import *"
   ]
  },
  {
   "cell_type": "code",
   "execution_count": null,
   "metadata": {},
   "outputs": [],
   "source": [
    "def toSVMdata(X, y): \n",
    "    N, d = X_train.shape\n",
    "    X_svm = []\n",
    "    for n in range(N):\n",
    "        X_svm.append({})\n",
    "        for i in range(d):\n",
    "            X_svm[n].update({i: X_train[n,i]}) \n",
    "    y_svm = list(y)\n",
    "    return X_svm, y_svm"
   ]
  },
  {
   "cell_type": "code",
   "execution_count": null,
   "metadata": {},
   "outputs": [],
   "source": [
    "def SVM (Xtrain, ytrain, Xval, yval):\n",
    "    bestaccu = 0\n",
    "    for i in range(-2, 3):\n",
    "        c = pow(10, i)\n",
    "        # turn into SVM data form\n",
    "        Xval, yval = toSVMdata(Xval, yval)\n",
    "        Xtrain, ytrain = toSVMdata(Xtrain, ytrain)\n",
    "        # train and prediction\n",
    "        model = svm_train(ytrain, Xtrain, '-s 0 -t 0 -c {C}'.format(C = c))\n",
    "        print(\"with C =\", c, \",\", end = \"\")\n",
    "        p_label, p_acc, p_val = svm_predict(yval, Xval, model)\n",
    "        if (p_acc[0] > bestaccu):\n",
    "            bestaccu = p_acc[0]\n",
    "    bestaccu /= 100\n",
    "    return bestaccu"
   ]
  },
  {
   "cell_type": "code",
   "execution_count": null,
   "metadata": {},
   "outputs": [],
   "source": [
    "a = X_train.to_numpy()\n",
    "b = y_train_isCan.to_numpy()\n",
    "print(type(a))\n",
    "print(type(b))\n",
    "X_train_svm, y_train_svm = toSVMdata(X_train.to_numpy(), y_train_isCan.to_numpy())\n",
    "X_val_svm, y_val_svm = toSVMdata(X_val, y_val_isCan)\n",
    "accuracy = SVM(X_train_svm, y_train_svm, X_val_svm, y_val_svm)\n",
    "print(\"E_val =\", 1 - accuracy)"
   ]
  },
  {
   "cell_type": "markdown",
   "metadata": {},
   "source": [
    "### GussianNB"
   ]
  },
  {
   "cell_type": "code",
   "execution_count": 83,
   "metadata": {},
   "outputs": [],
   "source": [
    "from sklearn.naive_bayes import GaussianNB\n",
    "\n",
    "def trainGussianNB(X_train, y_train, X_val):\n",
    "    clf = GaussianNB().fit(X_train, y_train)\n",
    "    y_result = clf.predict(X_val)\n",
    "    return(y_result)"
   ]
  },
  {
   "cell_type": "code",
   "execution_count": 84,
   "metadata": {},
   "outputs": [],
   "source": [
    "y_result = trainGussianNB(X_train, y_train_isCan, X_val)"
   ]
  },
  {
   "cell_type": "code",
   "execution_count": 85,
   "metadata": {},
   "outputs": [
    {
     "name": "stdout",
     "output_type": "stream",
     "text": [
      "Accuracy = 0.7596476510067114\n",
      "Number of mislabeled points out of a total 16688 points : 4011\n",
      "E_val =  0.24035234899328858\n"
     ]
    }
   ],
   "source": [
    "computeAccuracy(X_val, y_val_isCan, y_result)"
   ]
  },
  {
   "cell_type": "markdown",
   "metadata": {},
   "source": [
    "## Predict adr"
   ]
  },
  {
   "cell_type": "markdown",
   "metadata": {},
   "source": [
    "### Neural Network"
   ]
  },
  {
   "cell_type": "code",
   "execution_count": 117,
   "metadata": {},
   "outputs": [],
   "source": [
    "from sklearn.neural_network import MLPClassifier\n",
    "\n",
    "def trainNeural(X_train, y_train, X_val):\n",
    "    clf = MLPClassifier(solver='lbfgs', alpha=1e-5,hidden_layer_sizes=(5, 2), random_state=1).fit(X_train, y_train)\n",
    "    y_result = clf.predict(X_val)\n",
    "    return(y_result)"
   ]
  },
  {
   "cell_type": "code",
   "execution_count": 131,
   "metadata": {},
   "outputs": [],
   "source": [
    "# y_result = trainNeural(X_train, y_train_adr, X_val)"
   ]
  },
  {
   "cell_type": "code",
   "execution_count": null,
   "metadata": {},
   "outputs": [],
   "source": [
    "# calculateRsquare(X_val, y_val_adr, y_result)"
   ]
  },
  {
   "cell_type": "markdown",
   "metadata": {},
   "source": [
    "### Linear Regression"
   ]
  },
  {
   "cell_type": "code",
   "execution_count": 70,
   "metadata": {},
   "outputs": [],
   "source": [
    "from sklearn.linear_model import LinearRegression\n",
    "\n",
    "def trainLinearRegression(X_train_adr, y_train_adr, X_val_adr):\n",
    "    clf = LinearRegression().fit(X_train_adr, y_train_adr)\n",
    "    y_result = clf.predict(X_val_adr)\n",
    "    return(y_result)"
   ]
  },
  {
   "cell_type": "code",
   "execution_count": 71,
   "metadata": {},
   "outputs": [],
   "source": [
    "y_result = trainLinearRegression(X_train, y_train_adr, X_val)"
   ]
  },
  {
   "cell_type": "code",
   "execution_count": 72,
   "metadata": {},
   "outputs": [
    {
     "name": "stdout",
     "output_type": "stream",
     "text": [
      "R square = 0.44109509968084737\n"
     ]
    }
   ],
   "source": [
    "calculateRsquare(X_val, y_val_adr, y_result)"
   ]
  },
  {
   "cell_type": "markdown",
   "metadata": {},
   "source": [
    "### AdaboostClassifier (for is_canceled)"
   ]
  },
  {
   "cell_type": "markdown",
   "metadata": {},
   "source": [
    "from sklearn.ensemble import AdaBoostClassifier\n",
    "from sklearn.datasets import make_classification\n",
    "\n",
    "\n",
    "def AdaboostClassifier(x, y):\n",
    "    clf = AdaBoostClassifier(n_estimators=100, random_state=0, algorithm='SAMME')\n",
    "    clf.fit(x, y) \n",
    "    y_result = clf.predict(x)\n",
    "    return(y_result)\n",
    "    "
   ]
  },
  {
   "cell_type": "markdown",
   "metadata": {},
   "source": [
    "### Calculate predicted daily revenue"
   ]
  },
  {
   "cell_type": "code",
   "execution_count": 106,
   "metadata": {},
   "outputs": [],
   "source": [
    "def calculateDateRevenue(df):\n",
    "    df1 = df[[\"arrival_date_year\", \"arrival_date_month\", \"arrival_date_day_of_month\", \"adr\", \"is_canceled\", \"stays_in_weekend_nights\", \"stays_in_week_nights\"]]\n",
    "    df1[\"revenue\"] = (1 - df1[\"is_canceled\"]) * df1[\"adr\"] * (df1[\"stays_in_week_nights\"] + df1[\"stays_in_weekend_nights\"])\n",
    "    df2 = df1[[\"arrival_date_year\", \"arrival_date_month\", \"arrival_date_day_of_month\", \"revenue\"]]\n",
    "    df3 = df2.groupby(by=[\"arrival_date_year\", \"arrival_date_month\", \"arrival_date_day_of_month\"]).sum()\n",
    "    x = df3.to_numpy()\n",
    "    return(x) # one column: revenue"
   ]
  },
  {
   "cell_type": "markdown",
   "metadata": {},
   "source": [
    "## Revenue to label "
   ]
  },
  {
   "cell_type": "code",
   "execution_count": 107,
   "metadata": {},
   "outputs": [
    {
     "data": {
      "text/plain": [
       "Index(['ID', 'hotel', 'is_canceled', 'lead_time', 'arrival_date_year',\n",
       "       'arrival_date_month', 'arrival_date_week_number',\n",
       "       'arrival_date_day_of_month', 'stays_in_weekend_nights',\n",
       "       'stays_in_week_nights', 'adults', 'children', 'babies', 'meal',\n",
       "       'country', 'market_segment', 'distribution_channel',\n",
       "       'is_repeated_guest', 'previous_cancellations',\n",
       "       'previous_bookings_not_canceled', 'reserved_room_type',\n",
       "       'assigned_room_type', 'booking_changes', 'deposit_type', 'agent',\n",
       "       'company', 'days_in_waiting_list', 'customer_type', 'adr',\n",
       "       'required_car_parking_spaces', 'total_of_special_requests',\n",
       "       'reservation_status_date'],\n",
       "      dtype='object')"
      ]
     },
     "execution_count": 107,
     "metadata": {},
     "output_type": "execute_result"
    }
   ],
   "source": [
    "df_train.columns"
   ]
  },
  {
   "cell_type": "code",
   "execution_count": 108,
   "metadata": {},
   "outputs": [
    {
     "name": "stderr",
     "output_type": "stream",
     "text": [
      "C:\\Users\\user\\Anaconda3\\lib\\site-packages\\ipykernel_launcher.py:3: SettingWithCopyWarning: \n",
      "A value is trying to be set on a copy of a slice from a DataFrame.\n",
      "Try using .loc[row_indexer,col_indexer] = value instead\n",
      "\n",
      "See the caveats in the documentation: https://pandas.pydata.org/pandas-docs/stable/user_guide/indexing.html#returning-a-view-versus-a-copy\n",
      "  This is separate from the ipykernel package so we can avoid doing imports until\n"
     ]
    }
   ],
   "source": [
    "X_train_revenue = calculateDateRevenue(df_train)\n",
    "# print(len(X_train_revenue))\n",
    "X_val_revenue = calculateDateRevenue(df_val)\n",
    "# print(len(X_val_revenue))"
   ]
  },
  {
   "cell_type": "code",
   "execution_count": 109,
   "metadata": {},
   "outputs": [],
   "source": [
    "label[\"ID\"] = label.index\n",
    "label_train = label.loc[:518, :]\n",
    "label_val = label.loc[519:, :]"
   ]
  },
  {
   "cell_type": "code",
   "execution_count": 110,
   "metadata": {},
   "outputs": [],
   "source": [
    "y_train_label = label_train[\"label\"].to_numpy()\n",
    "# print(len(y_train_label))\n",
    "y_val_label = label_val[\"label\"].to_numpy()\n",
    "# print(len(y_val_label))"
   ]
  },
  {
   "cell_type": "markdown",
   "metadata": {},
   "source": [
    "for i in range(len(X_train_revenue)):\n",
    "    print(X_train_revenue[i], y_train_label[i])"
   ]
  },
  {
   "cell_type": "markdown",
   "metadata": {},
   "source": [
    "### KNN"
   ]
  },
  {
   "cell_type": "code",
   "execution_count": 204,
   "metadata": {},
   "outputs": [
    {
     "name": "stdout",
     "output_type": "stream",
     "text": [
      "Pre-processing...\n"
     ]
    },
    {
     "ename": "AttributeError",
     "evalue": "'numpy.ndarray' object has no attribute 'to_numpy'",
     "output_type": "error",
     "traceback": [
      "\u001b[1;31m---------------------------------------------------------------------------\u001b[0m",
      "\u001b[1;31mAttributeError\u001b[0m                            Traceback (most recent call last)",
      "\u001b[1;32m<ipython-input-204-87ca99a5040c>\u001b[0m in \u001b[0;36m<module>\u001b[1;34m\u001b[0m\n\u001b[1;32m----> 1\u001b[1;33m \u001b[0my_result\u001b[0m \u001b[1;33m=\u001b[0m \u001b[0mtrainKNN\u001b[0m\u001b[1;33m(\u001b[0m\u001b[0mX_train_revenue\u001b[0m\u001b[1;33m,\u001b[0m \u001b[0my_train_label\u001b[0m\u001b[1;33m,\u001b[0m \u001b[1;36m5\u001b[0m\u001b[1;33m,\u001b[0m \u001b[0mX_val_revenue\u001b[0m\u001b[1;33m,\u001b[0m \u001b[0my_val_label\u001b[0m\u001b[1;33m)\u001b[0m\u001b[1;33m\u001b[0m\u001b[0m\n\u001b[0m",
      "\u001b[1;32m<ipython-input-201-95d41cb94fcf>\u001b[0m in \u001b[0;36mtrainKNN\u001b[1;34m(X_train_df, y_train, k, X_val_df, y_val)\u001b[0m\n\u001b[0;32m      7\u001b[0m \u001b[1;31m#     X_train_feat = X_train_df[['ID', 'lead_time', 'previous_cancellations', 'days_in_waiting_list', 'deposit_type_Non Refund']]\u001b[0m\u001b[1;33m\u001b[0m\u001b[1;33m\u001b[0m\u001b[0m\n\u001b[0;32m      8\u001b[0m \u001b[1;31m#     X_train_feat = X_train_feat.to_numpy()\u001b[0m\u001b[1;33m\u001b[0m\u001b[1;33m\u001b[0m\u001b[0m\n\u001b[1;32m----> 9\u001b[1;33m     \u001b[0mX_train_feat\u001b[0m \u001b[1;33m=\u001b[0m \u001b[0mX_train_df\u001b[0m\u001b[1;33m.\u001b[0m\u001b[0mto_numpy\u001b[0m\u001b[1;33m(\u001b[0m\u001b[1;33m)\u001b[0m\u001b[1;33m\u001b[0m\u001b[0m\n\u001b[0m\u001b[0;32m     10\u001b[0m     \u001b[0mknn\u001b[0m \u001b[1;33m=\u001b[0m \u001b[0mKNeighborsClassifier\u001b[0m\u001b[1;33m(\u001b[0m\u001b[0mn_neighbors\u001b[0m \u001b[1;33m=\u001b[0m \u001b[0mk\u001b[0m\u001b[1;33m)\u001b[0m\u001b[1;33m\u001b[0m\u001b[0m\n\u001b[0;32m     11\u001b[0m     \u001b[0mprint\u001b[0m\u001b[1;33m(\u001b[0m\u001b[1;34m\"Fitting...\"\u001b[0m\u001b[1;33m)\u001b[0m\u001b[1;33m\u001b[0m\u001b[0m\n",
      "\u001b[1;31mAttributeError\u001b[0m: 'numpy.ndarray' object has no attribute 'to_numpy'"
     ]
    }
   ],
   "source": [
    "y_result = trainKNN(X_train_revenue, y_train_label, 5, X_val_revenue, y_val_label)"
   ]
  },
  {
   "cell_type": "code",
   "execution_count": 116,
   "metadata": {},
   "outputs": [],
   "source": [
    "computeAccuracy(X_val_revenue, y_val_revenue, y_result)"
   ]
  },
  {
   "cell_type": "markdown",
   "metadata": {},
   "source": [
    "### Desicion Stump "
   ]
  },
  {
   "cell_type": "code",
   "execution_count": 111,
   "metadata": {},
   "outputs": [],
   "source": [
    "y_result = trainDecisionStump(X_train_revenue, y_train_label, X_val_revenue)"
   ]
  },
  {
   "cell_type": "code",
   "execution_count": 112,
   "metadata": {},
   "outputs": [
    {
     "name": "stdout",
     "output_type": "stream",
     "text": [
      "Accuracy = 0.9917355371900827\n",
      "Number of mislabeled points out of a total 121 points : 1\n",
      "E_val =  0.008264462809917356\n"
     ]
    }
   ],
   "source": [
    "computeAccuracy(X_val_revenue, y_val_label, y_result)"
   ]
  },
  {
   "cell_type": "markdown",
   "metadata": {},
   "source": [
    "### Logistic Regression"
   ]
  },
  {
   "cell_type": "code",
   "execution_count": 113,
   "metadata": {},
   "outputs": [
    {
     "name": "stderr",
     "output_type": "stream",
     "text": [
      "C:\\Users\\user\\Anaconda3\\lib\\site-packages\\scipy\\optimize\\linesearch.py:477: LineSearchWarning: The line search algorithm did not converge\n",
      "  warn('The line search algorithm did not converge', LineSearchWarning)\n",
      "C:\\Users\\user\\Anaconda3\\lib\\site-packages\\scipy\\optimize\\linesearch.py:327: LineSearchWarning: The line search algorithm did not converge\n",
      "  warn('The line search algorithm did not converge', LineSearchWarning)\n",
      "C:\\Users\\user\\Anaconda3\\lib\\site-packages\\sklearn\\utils\\optimize.py:212: ConvergenceWarning: newton-cg failed to converge. Increase the number of iterations.\n",
      "  \"number of iterations.\", ConvergenceWarning)\n"
     ]
    }
   ],
   "source": [
    "y_result = trainLogisticRegression(X_train_revenue, y_train_label, X_val_revenue)"
   ]
  },
  {
   "cell_type": "code",
   "execution_count": 114,
   "metadata": {},
   "outputs": [
    {
     "name": "stdout",
     "output_type": "stream",
     "text": [
      "Accuracy = 0.9256198347107438\n",
      "Number of mislabeled points out of a total 121 points : 9\n",
      "E_val =  0.0743801652892562\n"
     ]
    }
   ],
   "source": [
    "computeAccuracy(X_val_revenue, y_val_label, y_result)"
   ]
  },
  {
   "cell_type": "markdown",
   "metadata": {},
   "source": [
    "### SVM"
   ]
  },
  {
   "cell_type": "code",
   "execution_count": 105,
   "metadata": {},
   "outputs": [],
   "source": [
    "y_result = trainSVM(X_train_revenue, y_train_label, X_val_revenue)"
   ]
  },
  {
   "cell_type": "code",
   "execution_count": 78,
   "metadata": {},
   "outputs": [
    {
     "name": "stdout",
     "output_type": "stream",
     "text": [
      "Accuracy = 0.38016528925619836\n",
      "Number of mislabeled points out of a total 121 points : 75\n",
      "E_val =  0.6198347107438017\n"
     ]
    }
   ],
   "source": [
    "computeAccuracy(X_val_revenue, y_val_label, y_result)"
   ]
  },
  {
   "cell_type": "markdown",
   "metadata": {},
   "source": [
    "### GuassianNB"
   ]
  },
  {
   "cell_type": "code",
   "execution_count": 115,
   "metadata": {},
   "outputs": [],
   "source": [
    "y_result = trainGussianNB(X_train_revenue, y_train_label, X_val_revenue)"
   ]
  },
  {
   "cell_type": "code",
   "execution_count": 116,
   "metadata": {},
   "outputs": [
    {
     "name": "stdout",
     "output_type": "stream",
     "text": [
      "Accuracy = 0.9504132231404959\n",
      "Number of mislabeled points out of a total 121 points : 6\n",
      "E_val =  0.049586776859504134\n"
     ]
    }
   ],
   "source": [
    "computeAccuracy(X_val_revenue, y_val_label, y_result)"
   ]
  },
  {
   "cell_type": "markdown",
   "metadata": {},
   "source": [
    "## Test"
   ]
  },
  {
   "cell_type": "code",
   "execution_count": null,
   "metadata": {},
   "outputs": [],
   "source": [
    "isCan = trainLogisticRegression(X_train, y_train_isCan, X_test)\n"
   ]
  }
 ],
 "metadata": {
  "kernelspec": {
   "display_name": "Python 3",
   "language": "python",
   "name": "python3"
  },
  "language_info": {
   "codemirror_mode": {
    "name": "ipython",
    "version": 3
   },
   "file_extension": ".py",
   "mimetype": "text/x-python",
   "name": "python",
   "nbconvert_exporter": "python",
   "pygments_lexer": "ipython3",
   "version": "3.6.5"
  }
 },
 "nbformat": 4,
 "nbformat_minor": 4
}
