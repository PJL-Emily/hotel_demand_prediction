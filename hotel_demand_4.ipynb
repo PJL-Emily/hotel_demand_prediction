{
 "cells": [
  {
   "cell_type": "markdown",
   "metadata": {},
   "source": [
    "## 0.0 read data"
   ]
  },
  {
   "cell_type": "code",
   "execution_count": 1,
   "metadata": {},
   "outputs": [],
   "source": [
    "import numpy as np\n",
    "from numpy import linalg\n",
    "import pandas as pd\n",
    "import scipy\n",
    "import matplotlib.pyplot as plt\n",
    "from sklearn.pipeline import make_pipeline\n",
    "from sklearn.preprocessing import StandardScaler\n",
    "from sklearn.neighbors import KNeighborsClassifier\n",
    "import time\n",
    "from datetime import *\n",
    "import copy"
   ]
  },
  {
   "cell_type": "code",
   "execution_count": 84,
   "metadata": {},
   "outputs": [],
   "source": [
    "df_origin = pd.read_csv('./data/train.csv')\n",
    "label = pd.read_csv('./data/train_label.csv')\n",
    "df_test = pd.read_csv('./data/test.csv')"
   ]
  },
  {
   "cell_type": "code",
   "execution_count": 85,
   "metadata": {},
   "outputs": [],
   "source": [
    "df_train = df_origin.loc[:74842, :]\n",
    "df_val = df_origin.loc[74843:, :]"
   ]
  },
  {
   "cell_type": "markdown",
   "metadata": {},
   "source": [
    "## concate"
   ]
  },
  {
   "cell_type": "code",
   "execution_count": 3,
   "metadata": {},
   "outputs": [],
   "source": [
    "y_isCan = df_origin['is_canceled']\n",
    "y_adr = df_origin['adr']\n",
    "df_origin = df_origin.drop(columns=['reservation_status', 'reservation_status_date', 'is_canceled', 'adr'])"
   ]
  },
  {
   "cell_type": "code",
   "execution_count": 4,
   "metadata": {},
   "outputs": [],
   "source": [
    "concate = pd.concat([df_origin,df_test],axis=0).reset_index(drop = True)"
   ]
  },
  {
   "cell_type": "code",
   "execution_count": 5,
   "metadata": {},
   "outputs": [
    {
     "data": {
      "text/plain": [
       "ID                                     0\n",
       "hotel                                  0\n",
       "lead_time                              0\n",
       "arrival_date_year                      0\n",
       "arrival_date_month                     0\n",
       "arrival_date_week_number               0\n",
       "arrival_date_day_of_month              0\n",
       "stays_in_weekend_nights                0\n",
       "stays_in_week_nights                   0\n",
       "adults                                 0\n",
       "children                               4\n",
       "babies                                 0\n",
       "meal                                   0\n",
       "country                              488\n",
       "market_segment                         0\n",
       "distribution_channel                   0\n",
       "is_repeated_guest                      0\n",
       "previous_cancellations                 0\n",
       "previous_bookings_not_canceled         0\n",
       "reserved_room_type                     0\n",
       "assigned_room_type                     0\n",
       "booking_changes                        0\n",
       "deposit_type                           0\n",
       "agent                              16340\n",
       "company                           112593\n",
       "days_in_waiting_list                   0\n",
       "customer_type                          0\n",
       "required_car_parking_spaces            0\n",
       "total_of_special_requests              0\n",
       "dtype: int64"
      ]
     },
     "execution_count": 5,
     "metadata": {},
     "output_type": "execute_result"
    }
   ],
   "source": [
    "concate.isna().sum()"
   ]
  },
  {
   "cell_type": "markdown",
   "metadata": {},
   "source": [
    "### dropna"
   ]
  },
  {
   "cell_type": "code",
   "execution_count": 6,
   "metadata": {},
   "outputs": [],
   "source": [
    "concate = concate.drop(columns=['country', 'agent', 'company'])"
   ]
  },
  {
   "cell_type": "markdown",
   "metadata": {},
   "source": [
    "### country填median"
   ]
  },
  {
   "cell_type": "code",
   "execution_count": 7,
   "metadata": {},
   "outputs": [],
   "source": [
    "concate = concate.fillna(concate.children.median())"
   ]
  },
  {
   "cell_type": "code",
   "execution_count": 8,
   "metadata": {},
   "outputs": [],
   "source": [
    "concate['arrival_date_month'] = concate['arrival_date_month'].map({'January':1, 'February': 2, 'March':3, 'April':4, 'May':5, 'June':6, 'July': 7, 'August':8, 'September':9, 'October': 10, 'November': 11, 'December':12})\n",
    "concate.arrival_date_month = concate.arrival_date_month.astype(int)"
   ]
  },
  {
   "cell_type": "markdown",
   "metadata": {},
   "source": [
    "### 加星期幾"
   ]
  },
  {
   "cell_type": "code",
   "execution_count": 9,
   "metadata": {},
   "outputs": [],
   "source": [
    "def dateToWeekDay(df):\n",
    "    year = df.arrival_date_year\n",
    "    month = df.arrival_date_month\n",
    "    day = df.arrival_date_day_of_month\n",
    "    n = len(df)\n",
    "    weekDays = [0 for i in range(n)]\n",
    "    for i in range(n):\n",
    "        weekDays[i] = date(year[i], month[i], day[i]).weekday()   \n",
    "    # return 1~7\n",
    "    df1 = copy.deepcopy(df)\n",
    "#     df1 = df1.rename(columns = {'arrival_date_year': 'year', 'arrival_date_month': 'month'})\n",
    "    df1.insert(6,'weekDay', weekDays)\n",
    "    df1 = pd.get_dummies(df1, columns = ['weekDay'])\n",
    "    print(df1.columns)\n",
    "    df1 = df1.drop(columns = ['weekDay_6']) # remove last one\n",
    "    return df1;"
   ]
  },
  {
   "cell_type": "code",
   "execution_count": 10,
   "metadata": {},
   "outputs": [
    {
     "name": "stdout",
     "output_type": "stream",
     "text": [
      "Index(['ID', 'hotel', 'lead_time', 'arrival_date_year', 'arrival_date_month',\n",
      "       'arrival_date_week_number', 'arrival_date_day_of_month',\n",
      "       'stays_in_weekend_nights', 'stays_in_week_nights', 'adults', 'children',\n",
      "       'babies', 'meal', 'market_segment', 'distribution_channel',\n",
      "       'is_repeated_guest', 'previous_cancellations',\n",
      "       'previous_bookings_not_canceled', 'reserved_room_type',\n",
      "       'assigned_room_type', 'booking_changes', 'deposit_type',\n",
      "       'days_in_waiting_list', 'customer_type', 'required_car_parking_spaces',\n",
      "       'total_of_special_requests', 'weekDay_0', 'weekDay_1', 'weekDay_2',\n",
      "       'weekDay_3', 'weekDay_4', 'weekDay_5', 'weekDay_6'],\n",
      "      dtype='object')\n"
     ]
    }
   ],
   "source": [
    "concate = dateToWeekDay(concate)"
   ]
  },
  {
   "cell_type": "markdown",
   "metadata": {},
   "source": [
    "### getdummy"
   ]
  },
  {
   "cell_type": "code",
   "execution_count": 11,
   "metadata": {},
   "outputs": [
    {
     "name": "stdout",
     "output_type": "stream",
     "text": [
      "Index(['ID', 'lead_time', 'arrival_date_year', 'arrival_date_week_number',\n",
      "       'arrival_date_day_of_month', 'stays_in_weekend_nights',\n",
      "       'stays_in_week_nights', 'adults', 'children', 'babies',\n",
      "       'is_repeated_guest', 'previous_cancellations',\n",
      "       'previous_bookings_not_canceled', 'booking_changes',\n",
      "       'days_in_waiting_list', 'required_car_parking_spaces',\n",
      "       'total_of_special_requests', 'weekDay_0', 'weekDay_1', 'weekDay_2',\n",
      "       'weekDay_3', 'weekDay_4', 'weekDay_5', 'hotel_City Hotel',\n",
      "       'hotel_Resort Hotel', 'arrival_date_month_1', 'arrival_date_month_2',\n",
      "       'arrival_date_month_3', 'arrival_date_month_4', 'arrival_date_month_5',\n",
      "       'arrival_date_month_6', 'arrival_date_month_7', 'arrival_date_month_8',\n",
      "       'arrival_date_month_9', 'arrival_date_month_10',\n",
      "       'arrival_date_month_11', 'arrival_date_month_12', 'meal_BB', 'meal_FB',\n",
      "       'meal_HB', 'meal_SC', 'meal_Undefined', 'market_segment_Aviation',\n",
      "       'market_segment_Complementary', 'market_segment_Corporate',\n",
      "       'market_segment_Direct', 'market_segment_Groups',\n",
      "       'market_segment_Offline TA/TO', 'market_segment_Online TA',\n",
      "       'market_segment_Undefined', 'distribution_channel_Corporate',\n",
      "       'distribution_channel_Direct', 'distribution_channel_GDS',\n",
      "       'distribution_channel_TA/TO', 'distribution_channel_Undefined',\n",
      "       'reserved_room_type_A', 'reserved_room_type_B', 'reserved_room_type_C',\n",
      "       'reserved_room_type_D', 'reserved_room_type_E', 'reserved_room_type_F',\n",
      "       'reserved_room_type_G', 'reserved_room_type_H', 'reserved_room_type_L',\n",
      "       'reserved_room_type_P', 'assigned_room_type_A', 'assigned_room_type_B',\n",
      "       'assigned_room_type_C', 'assigned_room_type_D', 'assigned_room_type_E',\n",
      "       'assigned_room_type_F', 'assigned_room_type_G', 'assigned_room_type_H',\n",
      "       'assigned_room_type_I', 'assigned_room_type_K', 'assigned_room_type_L',\n",
      "       'assigned_room_type_P', 'deposit_type_No Deposit',\n",
      "       'deposit_type_Non Refund', 'deposit_type_Refundable',\n",
      "       'customer_type_Contract', 'customer_type_Group',\n",
      "       'customer_type_Transient', 'customer_type_Transient-Party'],\n",
      "      dtype='object')\n"
     ]
    }
   ],
   "source": [
    "# Creating dummy variables:\n",
    "concate = pd.get_dummies(concate, columns=['hotel', 'arrival_date_month', 'meal', 'market_segment', 'distribution_channel', \\\n",
    "                                 'reserved_room_type', 'assigned_room_type', 'deposit_type', 'customer_type'])\n",
    "print(concate.columns)"
   ]
  },
  {
   "cell_type": "code",
   "execution_count": 12,
   "metadata": {},
   "outputs": [],
   "source": [
    "concate = concate.drop(columns=['hotel_Resort Hotel', 'arrival_date_month_9', 'meal_Undefined', 'market_segment_Undefined', 'distribution_channel_Undefined', 'reserved_room_type_P', 'assigned_room_type_P',  'deposit_type_Refundable', 'customer_type_Transient-Party'])"
   ]
  },
  {
   "cell_type": "code",
   "execution_count": 13,
   "metadata": {},
   "outputs": [
    {
     "data": {
      "text/plain": [
       "ID                           0\n",
       "lead_time                    0\n",
       "arrival_date_year            0\n",
       "arrival_date_week_number     0\n",
       "arrival_date_day_of_month    0\n",
       "                            ..\n",
       "deposit_type_No Deposit      0\n",
       "deposit_type_Non Refund      0\n",
       "customer_type_Contract       0\n",
       "customer_type_Group          0\n",
       "customer_type_Transient      0\n",
       "Length: 75, dtype: int64"
      ]
     },
     "execution_count": 13,
     "metadata": {},
     "output_type": "execute_result"
    }
   ],
   "source": [
    "concate.isna().sum()"
   ]
  },
  {
   "cell_type": "markdown",
   "metadata": {},
   "source": [
    "### 切成train, validate, test"
   ]
  },
  {
   "cell_type": "code",
   "execution_count": 14,
   "metadata": {},
   "outputs": [],
   "source": [
    "# y_isCan, y_adr 要切train, val\n",
    "y_train_isCan = y_isCan.loc[:74842]\n",
    "y_train_adr = y_adr.loc[:74842]\n",
    "y_val_isCan = y_isCan.loc[74843:]\n",
    "y_val_adr = y_isCan.loc[74843:]\n",
    "\n",
    "#concate 要切train, val, test\n",
    "X_train = concate.loc[:74842, :]\n",
    "X_val = concate.loc[74843:91530, :]\n",
    "X_test = concate.loc[91530:, :]"
   ]
  },
  {
   "cell_type": "code",
   "execution_count": 15,
   "metadata": {},
   "outputs": [
    {
     "name": "stdout",
     "output_type": "stream",
     "text": [
      "74843\n",
      "74843\n",
      "16688\n",
      "16688\n",
      "74843\n",
      "16688\n",
      "27860\n"
     ]
    }
   ],
   "source": [
    "print(len(y_train_isCan))\n",
    "print(len(y_train_adr))\n",
    "print(len(y_val_isCan))\n",
    "print(len(y_val_adr))\n",
    "print(len(X_train))\n",
    "print(len(X_val))\n",
    "print(len(X_test))"
   ]
  },
  {
   "cell_type": "markdown",
   "metadata": {},
   "source": [
    "## Basic analysis"
   ]
  },
  {
   "cell_type": "markdown",
   "metadata": {},
   "source": [
    "#### Target: \"is_canceled\"\n",
    "\n",
    "Steps:\n",
    "\n",
    "1. Predict \"is_canceled\" by attributes in each tuple\n",
    "\n",
    "2. Multiply predictions by \"ADR\"\n",
    "\n",
    "3. Group by date\n",
    "\n",
    "4. Predict classification of the daily revenue to the labels on $y$.\n"
   ]
  },
  {
   "cell_type": "code",
   "execution_count": 21,
   "metadata": {},
   "outputs": [
    {
     "data": {
      "text/html": [
       "<div>\n",
       "<style scoped>\n",
       "    .dataframe tbody tr th:only-of-type {\n",
       "        vertical-align: middle;\n",
       "    }\n",
       "\n",
       "    .dataframe tbody tr th {\n",
       "        vertical-align: top;\n",
       "    }\n",
       "\n",
       "    .dataframe thead th {\n",
       "        text-align: right;\n",
       "    }\n",
       "</style>\n",
       "<table border=\"1\" class=\"dataframe\">\n",
       "  <thead>\n",
       "    <tr style=\"text-align: right;\">\n",
       "      <th></th>\n",
       "      <th>ID</th>\n",
       "      <th>hotel</th>\n",
       "      <th>is_canceled</th>\n",
       "      <th>lead_time</th>\n",
       "      <th>stays_in_weekend_nights</th>\n",
       "      <th>stays_in_week_nights</th>\n",
       "      <th>adults</th>\n",
       "      <th>children</th>\n",
       "      <th>babies</th>\n",
       "      <th>is_repeated_guest</th>\n",
       "      <th>...</th>\n",
       "      <th>assigned_room_type_G</th>\n",
       "      <th>assigned_room_type_H</th>\n",
       "      <th>assigned_room_type_I</th>\n",
       "      <th>assigned_room_type_K</th>\n",
       "      <th>assigned_room_type_L</th>\n",
       "      <th>deposit_type_No Deposit</th>\n",
       "      <th>deposit_type_Non Refund</th>\n",
       "      <th>customer_type_Contract</th>\n",
       "      <th>customer_type_Group</th>\n",
       "      <th>customer_type_Transient</th>\n",
       "    </tr>\n",
       "  </thead>\n",
       "  <tbody>\n",
       "    <tr>\n",
       "      <th>count</th>\n",
       "      <td>91531.000000</td>\n",
       "      <td>91531.000000</td>\n",
       "      <td>91531.000000</td>\n",
       "      <td>91531.000000</td>\n",
       "      <td>91531.000000</td>\n",
       "      <td>91531.000000</td>\n",
       "      <td>91531.000000</td>\n",
       "      <td>91531.000000</td>\n",
       "      <td>91531.000000</td>\n",
       "      <td>91531.000000</td>\n",
       "      <td>...</td>\n",
       "      <td>91531.000000</td>\n",
       "      <td>91531.000000</td>\n",
       "      <td>91531.000000</td>\n",
       "      <td>91531.000000</td>\n",
       "      <td>91531.000000</td>\n",
       "      <td>91531.000000</td>\n",
       "      <td>91531.000000</td>\n",
       "      <td>91531.000000</td>\n",
       "      <td>91531.000000</td>\n",
       "      <td>91531.000000</td>\n",
       "    </tr>\n",
       "    <tr>\n",
       "      <th>mean</th>\n",
       "      <td>45765.000000</td>\n",
       "      <td>0.342299</td>\n",
       "      <td>0.357912</td>\n",
       "      <td>96.286843</td>\n",
       "      <td>0.899291</td>\n",
       "      <td>2.448438</td>\n",
       "      <td>1.835761</td>\n",
       "      <td>0.090964</td>\n",
       "      <td>0.008369</td>\n",
       "      <td>0.033890</td>\n",
       "      <td>...</td>\n",
       "      <td>0.020102</td>\n",
       "      <td>0.005714</td>\n",
       "      <td>0.003256</td>\n",
       "      <td>0.002546</td>\n",
       "      <td>0.000011</td>\n",
       "      <td>0.869957</td>\n",
       "      <td>0.128568</td>\n",
       "      <td>0.037834</td>\n",
       "      <td>0.004873</td>\n",
       "      <td>0.723646</td>\n",
       "    </tr>\n",
       "    <tr>\n",
       "      <th>std</th>\n",
       "      <td>26422.868082</td>\n",
       "      <td>0.474482</td>\n",
       "      <td>0.479389</td>\n",
       "      <td>105.454726</td>\n",
       "      <td>1.004555</td>\n",
       "      <td>1.935080</td>\n",
       "      <td>0.605828</td>\n",
       "      <td>0.373909</td>\n",
       "      <td>0.101749</td>\n",
       "      <td>0.180947</td>\n",
       "      <td>...</td>\n",
       "      <td>0.140352</td>\n",
       "      <td>0.075375</td>\n",
       "      <td>0.056966</td>\n",
       "      <td>0.050390</td>\n",
       "      <td>0.003305</td>\n",
       "      <td>0.336353</td>\n",
       "      <td>0.334724</td>\n",
       "      <td>0.190796</td>\n",
       "      <td>0.069635</td>\n",
       "      <td>0.447197</td>\n",
       "    </tr>\n",
       "    <tr>\n",
       "      <th>min</th>\n",
       "      <td>0.000000</td>\n",
       "      <td>0.000000</td>\n",
       "      <td>0.000000</td>\n",
       "      <td>0.000000</td>\n",
       "      <td>0.000000</td>\n",
       "      <td>0.000000</td>\n",
       "      <td>0.000000</td>\n",
       "      <td>0.000000</td>\n",
       "      <td>0.000000</td>\n",
       "      <td>0.000000</td>\n",
       "      <td>...</td>\n",
       "      <td>0.000000</td>\n",
       "      <td>0.000000</td>\n",
       "      <td>0.000000</td>\n",
       "      <td>0.000000</td>\n",
       "      <td>0.000000</td>\n",
       "      <td>0.000000</td>\n",
       "      <td>0.000000</td>\n",
       "      <td>0.000000</td>\n",
       "      <td>0.000000</td>\n",
       "      <td>0.000000</td>\n",
       "    </tr>\n",
       "    <tr>\n",
       "      <th>25%</th>\n",
       "      <td>22882.500000</td>\n",
       "      <td>0.000000</td>\n",
       "      <td>0.000000</td>\n",
       "      <td>15.000000</td>\n",
       "      <td>0.000000</td>\n",
       "      <td>1.000000</td>\n",
       "      <td>2.000000</td>\n",
       "      <td>0.000000</td>\n",
       "      <td>0.000000</td>\n",
       "      <td>0.000000</td>\n",
       "      <td>...</td>\n",
       "      <td>0.000000</td>\n",
       "      <td>0.000000</td>\n",
       "      <td>0.000000</td>\n",
       "      <td>0.000000</td>\n",
       "      <td>0.000000</td>\n",
       "      <td>1.000000</td>\n",
       "      <td>0.000000</td>\n",
       "      <td>0.000000</td>\n",
       "      <td>0.000000</td>\n",
       "      <td>0.000000</td>\n",
       "    </tr>\n",
       "    <tr>\n",
       "      <th>50%</th>\n",
       "      <td>45765.000000</td>\n",
       "      <td>0.000000</td>\n",
       "      <td>0.000000</td>\n",
       "      <td>58.000000</td>\n",
       "      <td>1.000000</td>\n",
       "      <td>2.000000</td>\n",
       "      <td>2.000000</td>\n",
       "      <td>0.000000</td>\n",
       "      <td>0.000000</td>\n",
       "      <td>0.000000</td>\n",
       "      <td>...</td>\n",
       "      <td>0.000000</td>\n",
       "      <td>0.000000</td>\n",
       "      <td>0.000000</td>\n",
       "      <td>0.000000</td>\n",
       "      <td>0.000000</td>\n",
       "      <td>1.000000</td>\n",
       "      <td>0.000000</td>\n",
       "      <td>0.000000</td>\n",
       "      <td>0.000000</td>\n",
       "      <td>1.000000</td>\n",
       "    </tr>\n",
       "    <tr>\n",
       "      <th>75%</th>\n",
       "      <td>68647.500000</td>\n",
       "      <td>1.000000</td>\n",
       "      <td>1.000000</td>\n",
       "      <td>145.000000</td>\n",
       "      <td>2.000000</td>\n",
       "      <td>3.000000</td>\n",
       "      <td>2.000000</td>\n",
       "      <td>0.000000</td>\n",
       "      <td>0.000000</td>\n",
       "      <td>0.000000</td>\n",
       "      <td>...</td>\n",
       "      <td>0.000000</td>\n",
       "      <td>0.000000</td>\n",
       "      <td>0.000000</td>\n",
       "      <td>0.000000</td>\n",
       "      <td>0.000000</td>\n",
       "      <td>1.000000</td>\n",
       "      <td>0.000000</td>\n",
       "      <td>0.000000</td>\n",
       "      <td>0.000000</td>\n",
       "      <td>1.000000</td>\n",
       "    </tr>\n",
       "    <tr>\n",
       "      <th>max</th>\n",
       "      <td>91530.000000</td>\n",
       "      <td>1.000000</td>\n",
       "      <td>1.000000</td>\n",
       "      <td>737.000000</td>\n",
       "      <td>19.000000</td>\n",
       "      <td>50.000000</td>\n",
       "      <td>55.000000</td>\n",
       "      <td>10.000000</td>\n",
       "      <td>10.000000</td>\n",
       "      <td>1.000000</td>\n",
       "      <td>...</td>\n",
       "      <td>1.000000</td>\n",
       "      <td>1.000000</td>\n",
       "      <td>1.000000</td>\n",
       "      <td>1.000000</td>\n",
       "      <td>1.000000</td>\n",
       "      <td>1.000000</td>\n",
       "      <td>1.000000</td>\n",
       "      <td>1.000000</td>\n",
       "      <td>1.000000</td>\n",
       "      <td>1.000000</td>\n",
       "    </tr>\n",
       "  </tbody>\n",
       "</table>\n",
       "<p>8 rows × 75 columns</p>\n",
       "</div>"
      ],
      "text/plain": [
       "                 ID         hotel   is_canceled     lead_time  \\\n",
       "count  91531.000000  91531.000000  91531.000000  91531.000000   \n",
       "mean   45765.000000      0.342299      0.357912     96.286843   \n",
       "std    26422.868082      0.474482      0.479389    105.454726   \n",
       "min        0.000000      0.000000      0.000000      0.000000   \n",
       "25%    22882.500000      0.000000      0.000000     15.000000   \n",
       "50%    45765.000000      0.000000      0.000000     58.000000   \n",
       "75%    68647.500000      1.000000      1.000000    145.000000   \n",
       "max    91530.000000      1.000000      1.000000    737.000000   \n",
       "\n",
       "       stays_in_weekend_nights  stays_in_week_nights        adults  \\\n",
       "count             91531.000000          91531.000000  91531.000000   \n",
       "mean                  0.899291              2.448438      1.835761   \n",
       "std                   1.004555              1.935080      0.605828   \n",
       "min                   0.000000              0.000000      0.000000   \n",
       "25%                   0.000000              1.000000      2.000000   \n",
       "50%                   1.000000              2.000000      2.000000   \n",
       "75%                   2.000000              3.000000      2.000000   \n",
       "max                  19.000000             50.000000     55.000000   \n",
       "\n",
       "           children        babies  is_repeated_guest  ...  \\\n",
       "count  91531.000000  91531.000000       91531.000000  ...   \n",
       "mean       0.090964      0.008369           0.033890  ...   \n",
       "std        0.373909      0.101749           0.180947  ...   \n",
       "min        0.000000      0.000000           0.000000  ...   \n",
       "25%        0.000000      0.000000           0.000000  ...   \n",
       "50%        0.000000      0.000000           0.000000  ...   \n",
       "75%        0.000000      0.000000           0.000000  ...   \n",
       "max       10.000000     10.000000           1.000000  ...   \n",
       "\n",
       "       assigned_room_type_G  assigned_room_type_H  assigned_room_type_I  \\\n",
       "count          91531.000000          91531.000000          91531.000000   \n",
       "mean               0.020102              0.005714              0.003256   \n",
       "std                0.140352              0.075375              0.056966   \n",
       "min                0.000000              0.000000              0.000000   \n",
       "25%                0.000000              0.000000              0.000000   \n",
       "50%                0.000000              0.000000              0.000000   \n",
       "75%                0.000000              0.000000              0.000000   \n",
       "max                1.000000              1.000000              1.000000   \n",
       "\n",
       "       assigned_room_type_K  assigned_room_type_L  deposit_type_No Deposit  \\\n",
       "count          91531.000000          91531.000000             91531.000000   \n",
       "mean               0.002546              0.000011                 0.869957   \n",
       "std                0.050390              0.003305                 0.336353   \n",
       "min                0.000000              0.000000                 0.000000   \n",
       "25%                0.000000              0.000000                 1.000000   \n",
       "50%                0.000000              0.000000                 1.000000   \n",
       "75%                0.000000              0.000000                 1.000000   \n",
       "max                1.000000              1.000000                 1.000000   \n",
       "\n",
       "       deposit_type_Non Refund  customer_type_Contract  customer_type_Group  \\\n",
       "count             91531.000000            91531.000000         91531.000000   \n",
       "mean                  0.128568                0.037834             0.004873   \n",
       "std                   0.334724                0.190796             0.069635   \n",
       "min                   0.000000                0.000000             0.000000   \n",
       "25%                   0.000000                0.000000             0.000000   \n",
       "50%                   0.000000                0.000000             0.000000   \n",
       "75%                   0.000000                0.000000             0.000000   \n",
       "max                   1.000000                1.000000             1.000000   \n",
       "\n",
       "       customer_type_Transient  \n",
       "count             91531.000000  \n",
       "mean                  0.723646  \n",
       "std                   0.447197  \n",
       "min                   0.000000  \n",
       "25%                   0.000000  \n",
       "50%                   1.000000  \n",
       "75%                   1.000000  \n",
       "max                   1.000000  \n",
       "\n",
       "[8 rows x 75 columns]"
      ]
     },
     "execution_count": 21,
     "metadata": {},
     "output_type": "execute_result"
    }
   ],
   "source": [
    "df_dum.describe()"
   ]
  },
  {
   "cell_type": "markdown",
   "metadata": {},
   "source": [
    "#### Building X and y"
   ]
  },
  {
   "cell_type": "markdown",
   "metadata": {},
   "source": [
    "#### Splitting train/validation\n",
    "(isCan/adr)"
   ]
  },
  {
   "cell_type": "markdown",
   "metadata": {},
   "source": [
    "Split data at index 74843\n",
    "\n",
    ":74842 -> train\n",
    "\n",
    "74843: -> val"
   ]
  },
  {
   "cell_type": "code",
   "execution_count": 30,
   "metadata": {},
   "outputs": [
    {
     "data": {
      "text/html": [
       "<div>\n",
       "<style scoped>\n",
       "    .dataframe tbody tr th:only-of-type {\n",
       "        vertical-align: middle;\n",
       "    }\n",
       "\n",
       "    .dataframe tbody tr th {\n",
       "        vertical-align: top;\n",
       "    }\n",
       "\n",
       "    .dataframe thead th {\n",
       "        text-align: right;\n",
       "    }\n",
       "</style>\n",
       "<table border=\"1\" class=\"dataframe\">\n",
       "  <thead>\n",
       "    <tr style=\"text-align: right;\">\n",
       "      <th></th>\n",
       "      <th>ID</th>\n",
       "      <th>hotel</th>\n",
       "      <th>lead_time</th>\n",
       "      <th>stays_in_weekend_nights</th>\n",
       "      <th>stays_in_week_nights</th>\n",
       "      <th>adults</th>\n",
       "      <th>children</th>\n",
       "      <th>babies</th>\n",
       "      <th>is_repeated_guest</th>\n",
       "      <th>previous_cancellations</th>\n",
       "      <th>...</th>\n",
       "      <th>assigned_room_type_G</th>\n",
       "      <th>assigned_room_type_H</th>\n",
       "      <th>assigned_room_type_I</th>\n",
       "      <th>assigned_room_type_K</th>\n",
       "      <th>assigned_room_type_L</th>\n",
       "      <th>deposit_type_No Deposit</th>\n",
       "      <th>deposit_type_Non Refund</th>\n",
       "      <th>customer_type_Contract</th>\n",
       "      <th>customer_type_Group</th>\n",
       "      <th>customer_type_Transient</th>\n",
       "    </tr>\n",
       "  </thead>\n",
       "  <tbody>\n",
       "    <tr>\n",
       "      <th>0</th>\n",
       "      <td>0</td>\n",
       "      <td>1</td>\n",
       "      <td>342</td>\n",
       "      <td>0</td>\n",
       "      <td>0</td>\n",
       "      <td>2</td>\n",
       "      <td>0.0</td>\n",
       "      <td>0</td>\n",
       "      <td>0</td>\n",
       "      <td>0</td>\n",
       "      <td>...</td>\n",
       "      <td>0</td>\n",
       "      <td>0</td>\n",
       "      <td>0</td>\n",
       "      <td>0</td>\n",
       "      <td>0</td>\n",
       "      <td>1</td>\n",
       "      <td>0</td>\n",
       "      <td>0</td>\n",
       "      <td>0</td>\n",
       "      <td>1</td>\n",
       "    </tr>\n",
       "    <tr>\n",
       "      <th>1</th>\n",
       "      <td>1</td>\n",
       "      <td>0</td>\n",
       "      <td>257</td>\n",
       "      <td>0</td>\n",
       "      <td>2</td>\n",
       "      <td>1</td>\n",
       "      <td>0.0</td>\n",
       "      <td>0</td>\n",
       "      <td>0</td>\n",
       "      <td>0</td>\n",
       "      <td>...</td>\n",
       "      <td>0</td>\n",
       "      <td>0</td>\n",
       "      <td>0</td>\n",
       "      <td>0</td>\n",
       "      <td>0</td>\n",
       "      <td>1</td>\n",
       "      <td>0</td>\n",
       "      <td>0</td>\n",
       "      <td>0</td>\n",
       "      <td>1</td>\n",
       "    </tr>\n",
       "    <tr>\n",
       "      <th>2</th>\n",
       "      <td>2</td>\n",
       "      <td>0</td>\n",
       "      <td>257</td>\n",
       "      <td>0</td>\n",
       "      <td>2</td>\n",
       "      <td>2</td>\n",
       "      <td>0.0</td>\n",
       "      <td>0</td>\n",
       "      <td>0</td>\n",
       "      <td>0</td>\n",
       "      <td>...</td>\n",
       "      <td>0</td>\n",
       "      <td>0</td>\n",
       "      <td>0</td>\n",
       "      <td>0</td>\n",
       "      <td>0</td>\n",
       "      <td>1</td>\n",
       "      <td>0</td>\n",
       "      <td>0</td>\n",
       "      <td>0</td>\n",
       "      <td>1</td>\n",
       "    </tr>\n",
       "    <tr>\n",
       "      <th>3</th>\n",
       "      <td>3</td>\n",
       "      <td>0</td>\n",
       "      <td>257</td>\n",
       "      <td>0</td>\n",
       "      <td>2</td>\n",
       "      <td>2</td>\n",
       "      <td>0.0</td>\n",
       "      <td>0</td>\n",
       "      <td>0</td>\n",
       "      <td>0</td>\n",
       "      <td>...</td>\n",
       "      <td>0</td>\n",
       "      <td>0</td>\n",
       "      <td>0</td>\n",
       "      <td>0</td>\n",
       "      <td>0</td>\n",
       "      <td>1</td>\n",
       "      <td>0</td>\n",
       "      <td>0</td>\n",
       "      <td>0</td>\n",
       "      <td>1</td>\n",
       "    </tr>\n",
       "    <tr>\n",
       "      <th>4</th>\n",
       "      <td>4</td>\n",
       "      <td>0</td>\n",
       "      <td>257</td>\n",
       "      <td>0</td>\n",
       "      <td>2</td>\n",
       "      <td>2</td>\n",
       "      <td>0.0</td>\n",
       "      <td>0</td>\n",
       "      <td>0</td>\n",
       "      <td>0</td>\n",
       "      <td>...</td>\n",
       "      <td>0</td>\n",
       "      <td>0</td>\n",
       "      <td>0</td>\n",
       "      <td>0</td>\n",
       "      <td>0</td>\n",
       "      <td>1</td>\n",
       "      <td>0</td>\n",
       "      <td>0</td>\n",
       "      <td>0</td>\n",
       "      <td>1</td>\n",
       "    </tr>\n",
       "    <tr>\n",
       "      <th>...</th>\n",
       "      <td>...</td>\n",
       "      <td>...</td>\n",
       "      <td>...</td>\n",
       "      <td>...</td>\n",
       "      <td>...</td>\n",
       "      <td>...</td>\n",
       "      <td>...</td>\n",
       "      <td>...</td>\n",
       "      <td>...</td>\n",
       "      <td>...</td>\n",
       "      <td>...</td>\n",
       "      <td>...</td>\n",
       "      <td>...</td>\n",
       "      <td>...</td>\n",
       "      <td>...</td>\n",
       "      <td>...</td>\n",
       "      <td>...</td>\n",
       "      <td>...</td>\n",
       "      <td>...</td>\n",
       "      <td>...</td>\n",
       "      <td>...</td>\n",
       "    </tr>\n",
       "    <tr>\n",
       "      <th>74838</th>\n",
       "      <td>74838</td>\n",
       "      <td>1</td>\n",
       "      <td>1</td>\n",
       "      <td>0</td>\n",
       "      <td>3</td>\n",
       "      <td>2</td>\n",
       "      <td>0.0</td>\n",
       "      <td>0</td>\n",
       "      <td>0</td>\n",
       "      <td>0</td>\n",
       "      <td>...</td>\n",
       "      <td>0</td>\n",
       "      <td>0</td>\n",
       "      <td>0</td>\n",
       "      <td>0</td>\n",
       "      <td>0</td>\n",
       "      <td>1</td>\n",
       "      <td>0</td>\n",
       "      <td>0</td>\n",
       "      <td>0</td>\n",
       "      <td>1</td>\n",
       "    </tr>\n",
       "    <tr>\n",
       "      <th>74839</th>\n",
       "      <td>74839</td>\n",
       "      <td>1</td>\n",
       "      <td>1</td>\n",
       "      <td>0</td>\n",
       "      <td>2</td>\n",
       "      <td>1</td>\n",
       "      <td>0.0</td>\n",
       "      <td>0</td>\n",
       "      <td>0</td>\n",
       "      <td>0</td>\n",
       "      <td>...</td>\n",
       "      <td>0</td>\n",
       "      <td>0</td>\n",
       "      <td>0</td>\n",
       "      <td>0</td>\n",
       "      <td>0</td>\n",
       "      <td>1</td>\n",
       "      <td>0</td>\n",
       "      <td>0</td>\n",
       "      <td>0</td>\n",
       "      <td>1</td>\n",
       "    </tr>\n",
       "    <tr>\n",
       "      <th>74840</th>\n",
       "      <td>74840</td>\n",
       "      <td>0</td>\n",
       "      <td>138</td>\n",
       "      <td>0</td>\n",
       "      <td>3</td>\n",
       "      <td>1</td>\n",
       "      <td>0.0</td>\n",
       "      <td>0</td>\n",
       "      <td>0</td>\n",
       "      <td>0</td>\n",
       "      <td>...</td>\n",
       "      <td>0</td>\n",
       "      <td>0</td>\n",
       "      <td>0</td>\n",
       "      <td>0</td>\n",
       "      <td>0</td>\n",
       "      <td>1</td>\n",
       "      <td>0</td>\n",
       "      <td>0</td>\n",
       "      <td>0</td>\n",
       "      <td>1</td>\n",
       "    </tr>\n",
       "    <tr>\n",
       "      <th>74841</th>\n",
       "      <td>74841</td>\n",
       "      <td>0</td>\n",
       "      <td>12</td>\n",
       "      <td>0</td>\n",
       "      <td>3</td>\n",
       "      <td>2</td>\n",
       "      <td>0.0</td>\n",
       "      <td>0</td>\n",
       "      <td>0</td>\n",
       "      <td>0</td>\n",
       "      <td>...</td>\n",
       "      <td>0</td>\n",
       "      <td>0</td>\n",
       "      <td>0</td>\n",
       "      <td>0</td>\n",
       "      <td>0</td>\n",
       "      <td>1</td>\n",
       "      <td>0</td>\n",
       "      <td>0</td>\n",
       "      <td>0</td>\n",
       "      <td>1</td>\n",
       "    </tr>\n",
       "    <tr>\n",
       "      <th>74842</th>\n",
       "      <td>74842</td>\n",
       "      <td>1</td>\n",
       "      <td>0</td>\n",
       "      <td>0</td>\n",
       "      <td>1</td>\n",
       "      <td>1</td>\n",
       "      <td>0.0</td>\n",
       "      <td>0</td>\n",
       "      <td>0</td>\n",
       "      <td>0</td>\n",
       "      <td>...</td>\n",
       "      <td>0</td>\n",
       "      <td>0</td>\n",
       "      <td>0</td>\n",
       "      <td>0</td>\n",
       "      <td>0</td>\n",
       "      <td>1</td>\n",
       "      <td>0</td>\n",
       "      <td>0</td>\n",
       "      <td>0</td>\n",
       "      <td>1</td>\n",
       "    </tr>\n",
       "  </tbody>\n",
       "</table>\n",
       "<p>74843 rows × 72 columns</p>\n",
       "</div>"
      ],
      "text/plain": [
       "          ID  hotel  lead_time  stays_in_weekend_nights  stays_in_week_nights  \\\n",
       "0          0      1        342                        0                     0   \n",
       "1          1      0        257                        0                     2   \n",
       "2          2      0        257                        0                     2   \n",
       "3          3      0        257                        0                     2   \n",
       "4          4      0        257                        0                     2   \n",
       "...      ...    ...        ...                      ...                   ...   \n",
       "74838  74838      1          1                        0                     3   \n",
       "74839  74839      1          1                        0                     2   \n",
       "74840  74840      0        138                        0                     3   \n",
       "74841  74841      0         12                        0                     3   \n",
       "74842  74842      1          0                        0                     1   \n",
       "\n",
       "       adults  children  babies  is_repeated_guest  previous_cancellations  \\\n",
       "0           2       0.0       0                  0                       0   \n",
       "1           1       0.0       0                  0                       0   \n",
       "2           2       0.0       0                  0                       0   \n",
       "3           2       0.0       0                  0                       0   \n",
       "4           2       0.0       0                  0                       0   \n",
       "...       ...       ...     ...                ...                     ...   \n",
       "74838       2       0.0       0                  0                       0   \n",
       "74839       1       0.0       0                  0                       0   \n",
       "74840       1       0.0       0                  0                       0   \n",
       "74841       2       0.0       0                  0                       0   \n",
       "74842       1       0.0       0                  0                       0   \n",
       "\n",
       "       ...  assigned_room_type_G  assigned_room_type_H  assigned_room_type_I  \\\n",
       "0      ...                     0                     0                     0   \n",
       "1      ...                     0                     0                     0   \n",
       "2      ...                     0                     0                     0   \n",
       "3      ...                     0                     0                     0   \n",
       "4      ...                     0                     0                     0   \n",
       "...    ...                   ...                   ...                   ...   \n",
       "74838  ...                     0                     0                     0   \n",
       "74839  ...                     0                     0                     0   \n",
       "74840  ...                     0                     0                     0   \n",
       "74841  ...                     0                     0                     0   \n",
       "74842  ...                     0                     0                     0   \n",
       "\n",
       "       assigned_room_type_K  assigned_room_type_L  deposit_type_No Deposit  \\\n",
       "0                         0                     0                        1   \n",
       "1                         0                     0                        1   \n",
       "2                         0                     0                        1   \n",
       "3                         0                     0                        1   \n",
       "4                         0                     0                        1   \n",
       "...                     ...                   ...                      ...   \n",
       "74838                     0                     0                        1   \n",
       "74839                     0                     0                        1   \n",
       "74840                     0                     0                        1   \n",
       "74841                     0                     0                        1   \n",
       "74842                     0                     0                        1   \n",
       "\n",
       "       deposit_type_Non Refund  customer_type_Contract  customer_type_Group  \\\n",
       "0                            0                       0                    0   \n",
       "1                            0                       0                    0   \n",
       "2                            0                       0                    0   \n",
       "3                            0                       0                    0   \n",
       "4                            0                       0                    0   \n",
       "...                        ...                     ...                  ...   \n",
       "74838                        0                       0                    0   \n",
       "74839                        0                       0                    0   \n",
       "74840                        0                       0                    0   \n",
       "74841                        0                       0                    0   \n",
       "74842                        0                       0                    0   \n",
       "\n",
       "       customer_type_Transient  \n",
       "0                            1  \n",
       "1                            1  \n",
       "2                            1  \n",
       "3                            1  \n",
       "4                            1  \n",
       "...                        ...  \n",
       "74838                        1  \n",
       "74839                        1  \n",
       "74840                        1  \n",
       "74841                        1  \n",
       "74842                        1  \n",
       "\n",
       "[74843 rows x 72 columns]"
      ]
     },
     "execution_count": 30,
     "metadata": {},
     "output_type": "execute_result"
    }
   ],
   "source": [
    "X_train"
   ]
  },
  {
   "cell_type": "code",
   "execution_count": 31,
   "metadata": {},
   "outputs": [
    {
     "data": {
      "text/html": [
       "<div>\n",
       "<style scoped>\n",
       "    .dataframe tbody tr th:only-of-type {\n",
       "        vertical-align: middle;\n",
       "    }\n",
       "\n",
       "    .dataframe tbody tr th {\n",
       "        vertical-align: top;\n",
       "    }\n",
       "\n",
       "    .dataframe thead th {\n",
       "        text-align: right;\n",
       "    }\n",
       "</style>\n",
       "<table border=\"1\" class=\"dataframe\">\n",
       "  <thead>\n",
       "    <tr style=\"text-align: right;\">\n",
       "      <th></th>\n",
       "      <th>ID</th>\n",
       "      <th>hotel</th>\n",
       "      <th>lead_time</th>\n",
       "      <th>stays_in_weekend_nights</th>\n",
       "      <th>stays_in_week_nights</th>\n",
       "      <th>adults</th>\n",
       "      <th>children</th>\n",
       "      <th>babies</th>\n",
       "      <th>is_repeated_guest</th>\n",
       "      <th>previous_cancellations</th>\n",
       "      <th>...</th>\n",
       "      <th>assigned_room_type_G</th>\n",
       "      <th>assigned_room_type_H</th>\n",
       "      <th>assigned_room_type_I</th>\n",
       "      <th>assigned_room_type_K</th>\n",
       "      <th>assigned_room_type_L</th>\n",
       "      <th>deposit_type_No Deposit</th>\n",
       "      <th>deposit_type_Non Refund</th>\n",
       "      <th>customer_type_Contract</th>\n",
       "      <th>customer_type_Group</th>\n",
       "      <th>customer_type_Transient</th>\n",
       "    </tr>\n",
       "  </thead>\n",
       "  <tbody>\n",
       "    <tr>\n",
       "      <th>74843</th>\n",
       "      <td>74843</td>\n",
       "      <td>0</td>\n",
       "      <td>290</td>\n",
       "      <td>1</td>\n",
       "      <td>3</td>\n",
       "      <td>2</td>\n",
       "      <td>0.0</td>\n",
       "      <td>0</td>\n",
       "      <td>0</td>\n",
       "      <td>0</td>\n",
       "      <td>...</td>\n",
       "      <td>0</td>\n",
       "      <td>0</td>\n",
       "      <td>0</td>\n",
       "      <td>0</td>\n",
       "      <td>0</td>\n",
       "      <td>1</td>\n",
       "      <td>0</td>\n",
       "      <td>0</td>\n",
       "      <td>0</td>\n",
       "      <td>1</td>\n",
       "    </tr>\n",
       "    <tr>\n",
       "      <th>74844</th>\n",
       "      <td>74844</td>\n",
       "      <td>0</td>\n",
       "      <td>510</td>\n",
       "      <td>0</td>\n",
       "      <td>2</td>\n",
       "      <td>2</td>\n",
       "      <td>0.0</td>\n",
       "      <td>0</td>\n",
       "      <td>0</td>\n",
       "      <td>0</td>\n",
       "      <td>...</td>\n",
       "      <td>0</td>\n",
       "      <td>0</td>\n",
       "      <td>0</td>\n",
       "      <td>0</td>\n",
       "      <td>0</td>\n",
       "      <td>0</td>\n",
       "      <td>1</td>\n",
       "      <td>0</td>\n",
       "      <td>0</td>\n",
       "      <td>1</td>\n",
       "    </tr>\n",
       "    <tr>\n",
       "      <th>74845</th>\n",
       "      <td>74845</td>\n",
       "      <td>0</td>\n",
       "      <td>510</td>\n",
       "      <td>0</td>\n",
       "      <td>2</td>\n",
       "      <td>2</td>\n",
       "      <td>0.0</td>\n",
       "      <td>0</td>\n",
       "      <td>0</td>\n",
       "      <td>0</td>\n",
       "      <td>...</td>\n",
       "      <td>0</td>\n",
       "      <td>0</td>\n",
       "      <td>0</td>\n",
       "      <td>0</td>\n",
       "      <td>0</td>\n",
       "      <td>0</td>\n",
       "      <td>1</td>\n",
       "      <td>0</td>\n",
       "      <td>0</td>\n",
       "      <td>1</td>\n",
       "    </tr>\n",
       "    <tr>\n",
       "      <th>74846</th>\n",
       "      <td>74846</td>\n",
       "      <td>0</td>\n",
       "      <td>510</td>\n",
       "      <td>0</td>\n",
       "      <td>2</td>\n",
       "      <td>2</td>\n",
       "      <td>0.0</td>\n",
       "      <td>0</td>\n",
       "      <td>0</td>\n",
       "      <td>0</td>\n",
       "      <td>...</td>\n",
       "      <td>0</td>\n",
       "      <td>0</td>\n",
       "      <td>0</td>\n",
       "      <td>0</td>\n",
       "      <td>0</td>\n",
       "      <td>0</td>\n",
       "      <td>1</td>\n",
       "      <td>0</td>\n",
       "      <td>0</td>\n",
       "      <td>1</td>\n",
       "    </tr>\n",
       "    <tr>\n",
       "      <th>74847</th>\n",
       "      <td>74847</td>\n",
       "      <td>0</td>\n",
       "      <td>510</td>\n",
       "      <td>0</td>\n",
       "      <td>2</td>\n",
       "      <td>2</td>\n",
       "      <td>0.0</td>\n",
       "      <td>0</td>\n",
       "      <td>0</td>\n",
       "      <td>0</td>\n",
       "      <td>...</td>\n",
       "      <td>0</td>\n",
       "      <td>0</td>\n",
       "      <td>0</td>\n",
       "      <td>0</td>\n",
       "      <td>0</td>\n",
       "      <td>0</td>\n",
       "      <td>1</td>\n",
       "      <td>0</td>\n",
       "      <td>0</td>\n",
       "      <td>1</td>\n",
       "    </tr>\n",
       "    <tr>\n",
       "      <th>...</th>\n",
       "      <td>...</td>\n",
       "      <td>...</td>\n",
       "      <td>...</td>\n",
       "      <td>...</td>\n",
       "      <td>...</td>\n",
       "      <td>...</td>\n",
       "      <td>...</td>\n",
       "      <td>...</td>\n",
       "      <td>...</td>\n",
       "      <td>...</td>\n",
       "      <td>...</td>\n",
       "      <td>...</td>\n",
       "      <td>...</td>\n",
       "      <td>...</td>\n",
       "      <td>...</td>\n",
       "      <td>...</td>\n",
       "      <td>...</td>\n",
       "      <td>...</td>\n",
       "      <td>...</td>\n",
       "      <td>...</td>\n",
       "      <td>...</td>\n",
       "    </tr>\n",
       "    <tr>\n",
       "      <th>91526</th>\n",
       "      <td>91526</td>\n",
       "      <td>1</td>\n",
       "      <td>19</td>\n",
       "      <td>0</td>\n",
       "      <td>2</td>\n",
       "      <td>2</td>\n",
       "      <td>2.0</td>\n",
       "      <td>0</td>\n",
       "      <td>0</td>\n",
       "      <td>0</td>\n",
       "      <td>...</td>\n",
       "      <td>0</td>\n",
       "      <td>0</td>\n",
       "      <td>0</td>\n",
       "      <td>0</td>\n",
       "      <td>0</td>\n",
       "      <td>1</td>\n",
       "      <td>0</td>\n",
       "      <td>0</td>\n",
       "      <td>0</td>\n",
       "      <td>1</td>\n",
       "    </tr>\n",
       "    <tr>\n",
       "      <th>91527</th>\n",
       "      <td>91527</td>\n",
       "      <td>1</td>\n",
       "      <td>28</td>\n",
       "      <td>0</td>\n",
       "      <td>2</td>\n",
       "      <td>2</td>\n",
       "      <td>0.0</td>\n",
       "      <td>0</td>\n",
       "      <td>0</td>\n",
       "      <td>0</td>\n",
       "      <td>...</td>\n",
       "      <td>0</td>\n",
       "      <td>0</td>\n",
       "      <td>0</td>\n",
       "      <td>0</td>\n",
       "      <td>0</td>\n",
       "      <td>1</td>\n",
       "      <td>0</td>\n",
       "      <td>0</td>\n",
       "      <td>0</td>\n",
       "      <td>1</td>\n",
       "    </tr>\n",
       "    <tr>\n",
       "      <th>91528</th>\n",
       "      <td>91528</td>\n",
       "      <td>1</td>\n",
       "      <td>2</td>\n",
       "      <td>0</td>\n",
       "      <td>1</td>\n",
       "      <td>2</td>\n",
       "      <td>0.0</td>\n",
       "      <td>0</td>\n",
       "      <td>0</td>\n",
       "      <td>0</td>\n",
       "      <td>...</td>\n",
       "      <td>0</td>\n",
       "      <td>0</td>\n",
       "      <td>0</td>\n",
       "      <td>0</td>\n",
       "      <td>0</td>\n",
       "      <td>1</td>\n",
       "      <td>0</td>\n",
       "      <td>0</td>\n",
       "      <td>0</td>\n",
       "      <td>1</td>\n",
       "    </tr>\n",
       "    <tr>\n",
       "      <th>91529</th>\n",
       "      <td>91529</td>\n",
       "      <td>1</td>\n",
       "      <td>30</td>\n",
       "      <td>3</td>\n",
       "      <td>7</td>\n",
       "      <td>2</td>\n",
       "      <td>0.0</td>\n",
       "      <td>0</td>\n",
       "      <td>0</td>\n",
       "      <td>0</td>\n",
       "      <td>...</td>\n",
       "      <td>0</td>\n",
       "      <td>0</td>\n",
       "      <td>0</td>\n",
       "      <td>0</td>\n",
       "      <td>0</td>\n",
       "      <td>1</td>\n",
       "      <td>0</td>\n",
       "      <td>0</td>\n",
       "      <td>0</td>\n",
       "      <td>1</td>\n",
       "    </tr>\n",
       "    <tr>\n",
       "      <th>91530</th>\n",
       "      <td>91530</td>\n",
       "      <td>1</td>\n",
       "      <td>1</td>\n",
       "      <td>0</td>\n",
       "      <td>1</td>\n",
       "      <td>1</td>\n",
       "      <td>0.0</td>\n",
       "      <td>0</td>\n",
       "      <td>0</td>\n",
       "      <td>0</td>\n",
       "      <td>...</td>\n",
       "      <td>0</td>\n",
       "      <td>0</td>\n",
       "      <td>0</td>\n",
       "      <td>0</td>\n",
       "      <td>0</td>\n",
       "      <td>1</td>\n",
       "      <td>0</td>\n",
       "      <td>0</td>\n",
       "      <td>0</td>\n",
       "      <td>1</td>\n",
       "    </tr>\n",
       "  </tbody>\n",
       "</table>\n",
       "<p>16688 rows × 72 columns</p>\n",
       "</div>"
      ],
      "text/plain": [
       "          ID  hotel  lead_time  stays_in_weekend_nights  stays_in_week_nights  \\\n",
       "74843  74843      0        290                        1                     3   \n",
       "74844  74844      0        510                        0                     2   \n",
       "74845  74845      0        510                        0                     2   \n",
       "74846  74846      0        510                        0                     2   \n",
       "74847  74847      0        510                        0                     2   \n",
       "...      ...    ...        ...                      ...                   ...   \n",
       "91526  91526      1         19                        0                     2   \n",
       "91527  91527      1         28                        0                     2   \n",
       "91528  91528      1          2                        0                     1   \n",
       "91529  91529      1         30                        3                     7   \n",
       "91530  91530      1          1                        0                     1   \n",
       "\n",
       "       adults  children  babies  is_repeated_guest  previous_cancellations  \\\n",
       "74843       2       0.0       0                  0                       0   \n",
       "74844       2       0.0       0                  0                       0   \n",
       "74845       2       0.0       0                  0                       0   \n",
       "74846       2       0.0       0                  0                       0   \n",
       "74847       2       0.0       0                  0                       0   \n",
       "...       ...       ...     ...                ...                     ...   \n",
       "91526       2       2.0       0                  0                       0   \n",
       "91527       2       0.0       0                  0                       0   \n",
       "91528       2       0.0       0                  0                       0   \n",
       "91529       2       0.0       0                  0                       0   \n",
       "91530       1       0.0       0                  0                       0   \n",
       "\n",
       "       ...  assigned_room_type_G  assigned_room_type_H  assigned_room_type_I  \\\n",
       "74843  ...                     0                     0                     0   \n",
       "74844  ...                     0                     0                     0   \n",
       "74845  ...                     0                     0                     0   \n",
       "74846  ...                     0                     0                     0   \n",
       "74847  ...                     0                     0                     0   \n",
       "...    ...                   ...                   ...                   ...   \n",
       "91526  ...                     0                     0                     0   \n",
       "91527  ...                     0                     0                     0   \n",
       "91528  ...                     0                     0                     0   \n",
       "91529  ...                     0                     0                     0   \n",
       "91530  ...                     0                     0                     0   \n",
       "\n",
       "       assigned_room_type_K  assigned_room_type_L  deposit_type_No Deposit  \\\n",
       "74843                     0                     0                        1   \n",
       "74844                     0                     0                        0   \n",
       "74845                     0                     0                        0   \n",
       "74846                     0                     0                        0   \n",
       "74847                     0                     0                        0   \n",
       "...                     ...                   ...                      ...   \n",
       "91526                     0                     0                        1   \n",
       "91527                     0                     0                        1   \n",
       "91528                     0                     0                        1   \n",
       "91529                     0                     0                        1   \n",
       "91530                     0                     0                        1   \n",
       "\n",
       "       deposit_type_Non Refund  customer_type_Contract  customer_type_Group  \\\n",
       "74843                        0                       0                    0   \n",
       "74844                        1                       0                    0   \n",
       "74845                        1                       0                    0   \n",
       "74846                        1                       0                    0   \n",
       "74847                        1                       0                    0   \n",
       "...                        ...                     ...                  ...   \n",
       "91526                        0                       0                    0   \n",
       "91527                        0                       0                    0   \n",
       "91528                        0                       0                    0   \n",
       "91529                        0                       0                    0   \n",
       "91530                        0                       0                    0   \n",
       "\n",
       "       customer_type_Transient  \n",
       "74843                        1  \n",
       "74844                        1  \n",
       "74845                        1  \n",
       "74846                        1  \n",
       "74847                        1  \n",
       "...                        ...  \n",
       "91526                        1  \n",
       "91527                        1  \n",
       "91528                        1  \n",
       "91529                        1  \n",
       "91530                        1  \n",
       "\n",
       "[16688 rows x 72 columns]"
      ]
     },
     "execution_count": 31,
     "metadata": {},
     "output_type": "execute_result"
    }
   ],
   "source": [
    "X_val"
   ]
  },
  {
   "cell_type": "code",
   "execution_count": 32,
   "metadata": {},
   "outputs": [
    {
     "data": {
      "text/plain": [
       "0    0.638163\n",
       "1    0.361837\n",
       "Name: is_canceled, dtype: float64"
      ]
     },
     "execution_count": 32,
     "metadata": {},
     "output_type": "execute_result"
    }
   ],
   "source": [
    "y_train_isCan.value_counts(normalize=True)"
   ]
  },
  {
   "cell_type": "markdown",
   "metadata": {},
   "source": [
    "The cancel rate is around 35%."
   ]
  },
  {
   "cell_type": "code",
   "execution_count": 33,
   "metadata": {},
   "outputs": [
    {
     "data": {
      "text/plain": [
       "0.000000      75\n",
       "47.000000      5\n",
       "31.000000      5\n",
       "42.000000      5\n",
       "16.000000      4\n",
       "              ..\n",
       "139.827646     1\n",
       "79.667069      1\n",
       "115.188575     1\n",
       "151.865524     1\n",
       "50.842307      1\n",
       "Name: adr, Length: 74732, dtype: int64"
      ]
     },
     "execution_count": 33,
     "metadata": {},
     "output_type": "execute_result"
    }
   ],
   "source": [
    "y_train_adr.value_counts()"
   ]
  },
  {
   "cell_type": "markdown",
   "metadata": {},
   "source": [
    "### Computing accuracy "
   ]
  },
  {
   "cell_type": "code",
   "execution_count": 23,
   "metadata": {},
   "outputs": [],
   "source": [
    "from sklearn.metrics import accuracy_score\n",
    "def computeAccuracy(X, y, y_result): #x: test revenue, y: test label\n",
    "    print(\"Accuracy =\", accuracy_score(y, y_result))\n",
    "    print(\"Number of mislabeled points out of a total %d points : %d\"% (X.shape[0],(y != y_result).sum()))\n",
    "    print(\"E_val = \", (y != y_result).sum() / X.shape[0])\n",
    "    \n",
    "from sklearn.metrics import r2_score\n",
    "def calculateRsquare(X, y, y_result): #x: test revenue, y: test label\n",
    "    print(\"R square =\", r2_score(y, y_result))"
   ]
  },
  {
   "cell_type": "markdown",
   "metadata": {},
   "source": [
    "## Predict is_can"
   ]
  },
  {
   "cell_type": "markdown",
   "metadata": {},
   "source": [
    "### KNN"
   ]
  },
  {
   "cell_type": "code",
   "execution_count": 55,
   "metadata": {},
   "outputs": [],
   "source": [
    "def trainKNN(X_train_df, y_train, k, X_val_df, y_val):\n",
    "    print(\"Pre-processing...\")\n",
    "#     X_train_feat = X_train_df[['ID', 'lead_time', 'previous_cancellations', \\\n",
    "#                             'previous_bookings_not_canceled', 'booking_changes', \\\n",
    "#                             'days_in_waiting_list', 'required_car_parking_spaces', \\\n",
    "#                             'total_of_special_requests', 'market_segment_Groups', 'deposit_type_Non Refund']]\n",
    "#     X_train_feat = X_train_df[['ID', 'lead_time', 'previous_cancellations', 'days_in_waiting_list', 'deposit_type_Non Refund']]\n",
    "#     X_train_feat = X_train_feat.to_numpy()\n",
    "#     X_train_feat = X_train_df.to_numpy()\n",
    "    X_train_feat = X_train_df\n",
    "    knn = KNeighborsClassifier(n_neighbors = k)\n",
    "    print(\"Fitting...\")\n",
    "    knn_best = knn.fit(X_train_feat, y_train)\n",
    "#     X_val_feat = X_val_df[['ID', 'lead_time', 'previous_cancellations', \\\n",
    "#                             'previous_bookings_not_canceled', 'booking_changes', \\\n",
    "#                             'days_in_waiting_list', 'required_car_parking_spaces', \\\n",
    "#                             'total_of_special_requests', 'market_segment_Groups', 'deposit_type_Non Refund']]\n",
    "#     X_val_feat = X_val_df[['distribution_channel_GDS', 'reserved_room_type_B', 'reserved_room_type_L', 'assigned_room_type_B', 'assigned_room_type_L']]\n",
    "#     X_val_feat = X_val_feat.to_numpy()\n",
    "    X_val_feat = X_val_df\n",
    "    print(\"Predicting...\")\n",
    "    y_pred = knn_best.predict(X_val_feat)\n",
    "#     print(\"Calculating accuracy...\")\n",
    "#     sc = knn_best.score(X_val_feat, y_val, sample_weight=None)\n",
    "    return y_pred, sc;"
   ]
  },
  {
   "cell_type": "code",
   "execution_count": 37,
   "metadata": {},
   "outputs": [
    {
     "name": "stdout",
     "output_type": "stream",
     "text": [
      "Pre-processing...\n",
      "Fitting...\n",
      "Predicting...\n",
      "Calculating accuracy...\n"
     ]
    }
   ],
   "source": [
    "y_pred, sc = trainKNN(X_train, y_train_isCan, 5, X_val, y_val_isCan)"
   ]
  },
  {
   "cell_type": "code",
   "execution_count": 39,
   "metadata": {},
   "outputs": [
    {
     "data": {
      "text/plain": [
       "0.6679050814956855"
      ]
     },
     "execution_count": 39,
     "metadata": {},
     "output_type": "execute_result"
    }
   ],
   "source": [
    "sc"
   ]
  },
  {
   "cell_type": "code",
   "execution_count": 40,
   "metadata": {},
   "outputs": [
    {
     "name": "stdout",
     "output_type": "stream",
     "text": [
      "Accuracy = 0.6679050814956855\n",
      "Number of mislabeled points out of a total 16688 points : 5542\n",
      "E_val =  0.3320949185043145\n"
     ]
    }
   ],
   "source": [
    "computeAccuracy(X_val, y_val_isCan, y_pred)"
   ]
  },
  {
   "cell_type": "markdown",
   "metadata": {},
   "source": [
    "### Desicion Stump"
   ]
  },
  {
   "cell_type": "code",
   "execution_count": 57,
   "metadata": {},
   "outputs": [],
   "source": [
    "from sklearn import tree\n",
    "\n",
    "def trainDecisionStump(X_train, y_train, X_val):\n",
    "    clf = tree.DecisionTreeClassifier().fit(X_train, y_train)\n",
    "    y_result = clf.predict(X_val)\n",
    "    return(y_result)\n",
    "\n",
    "def trainDecisionStumpRegressor(X_train, y_train, X_val):\n",
    "    clf = tree.DecisionTreeRegressor(max_depth=10).fit(X_train, y_train)\n",
    "    y_result = clf.predict(X_val)\n",
    "    return(y_result)"
   ]
  },
  {
   "cell_type": "code",
   "execution_count": 42,
   "metadata": {},
   "outputs": [],
   "source": [
    "y_result = trainDecisionStump(X_train, y_train_isCan, X_val)"
   ]
  },
  {
   "cell_type": "code",
   "execution_count": 43,
   "metadata": {},
   "outputs": [
    {
     "name": "stdout",
     "output_type": "stream",
     "text": [
      "Accuracy = 0.7062559923298178\n",
      "Number of mislabeled points out of a total 16688 points : 4902\n",
      "E_val =  0.29374400767018216\n"
     ]
    }
   ],
   "source": [
    "computeAccuracy(X_val, y_val_isCan, y_result)"
   ]
  },
  {
   "cell_type": "markdown",
   "metadata": {},
   "source": [
    "### Random Forest Classification"
   ]
  },
  {
   "cell_type": "code",
   "execution_count": 29,
   "metadata": {},
   "outputs": [],
   "source": [
    "from sklearn.model_selection import cross_val_score, GridSearchCV\n",
    "from sklearn.ensemble import RandomForestRegressor, RandomForestClassifier\n",
    "from sklearn.preprocessing import MinMaxScaler\n",
    "\n",
    "def trainRFC(X, y):\n",
    "    rfr = RandomForestClassifier(random_state=False)\n",
    "    rfr.fit(X, y)\n",
    "    y_result = rfr.predict(X)\n",
    "    return y_result;"
   ]
  },
  {
   "cell_type": "code",
   "execution_count": 83,
   "metadata": {},
   "outputs": [
    {
     "name": "stdout",
     "output_type": "stream",
     "text": [
      "Accuracy = 0.9999732773940114\n",
      "Number of mislabeled points out of a total 74843 points : 2\n",
      "E_val =  2.6722605988536002e-05\n"
     ]
    }
   ],
   "source": [
    "y_result = trainRFC(X_train, y_train_isCan)\n",
    "computeAccuracy(X_train, y_train_isCan, y_pred)"
   ]
  },
  {
   "cell_type": "markdown",
   "metadata": {},
   "source": [
    "#### tree isCan"
   ]
  },
  {
   "cell_type": "code",
   "execution_count": 44,
   "metadata": {
    "collapsed": true,
    "jupyter": {
     "outputs_hidden": true,
     "source_hidden": true
    }
   },
   "outputs": [
    {
     "ename": "NameError",
     "evalue": "name 'X_train_tree' is not defined",
     "output_type": "error",
     "traceback": [
      "\u001b[0;31m---------------------------------------------------------------------------\u001b[0m",
      "\u001b[0;31mNameError\u001b[0m                                 Traceback (most recent call last)",
      "\u001b[0;32m<ipython-input-44-ee95a2c1a757>\u001b[0m in \u001b[0;36m<module>\u001b[0;34m\u001b[0m\n\u001b[0;32m----> 1\u001b[0;31m \u001b[0my_result\u001b[0m \u001b[0;34m=\u001b[0m \u001b[0mtrainDecisionStump\u001b[0m\u001b[0;34m(\u001b[0m\u001b[0mX_train_tree\u001b[0m\u001b[0;34m,\u001b[0m \u001b[0my_train_tree_isCan\u001b[0m\u001b[0;34m,\u001b[0m \u001b[0mX_val_tree\u001b[0m\u001b[0;34m)\u001b[0m\u001b[0;34m\u001b[0m\u001b[0;34m\u001b[0m\u001b[0m\n\u001b[0m",
      "\u001b[0;31mNameError\u001b[0m: name 'X_train_tree' is not defined"
     ]
    }
   ],
   "source": [
    "y_result = trainDecisionStump(X_train_tree, y_train_tree_isCan, X_val_tree)"
   ]
  },
  {
   "cell_type": "code",
   "execution_count": 263,
   "metadata": {
    "jupyter": {
     "source_hidden": true
    }
   },
   "outputs": [
    {
     "name": "stdout",
     "output_type": "stream",
     "text": [
      "Accuracy = 0.652984180249281\n",
      "Number of mislabeled points out of a total 16688 points : 5791\n",
      "E_val =  0.3470158197507191\n"
     ]
    }
   ],
   "source": [
    "computeAccuracy(X_val_tree, y_val_tree_isCan, y_result)"
   ]
  },
  {
   "cell_type": "markdown",
   "metadata": {},
   "source": [
    "#### tree adr"
   ]
  },
  {
   "cell_type": "code",
   "execution_count": 316,
   "metadata": {
    "jupyter": {
     "source_hidden": true
    }
   },
   "outputs": [],
   "source": [
    "y_result = trainDecisionStumpRegressor(X_train_tree, y_train_tree_adr, X_val_tree)"
   ]
  },
  {
   "cell_type": "code",
   "execution_count": 317,
   "metadata": {
    "collapsed": true,
    "jupyter": {
     "outputs_hidden": true,
     "source_hidden": true
    }
   },
   "outputs": [
    {
     "name": "stdout",
     "output_type": "stream",
     "text": [
      "R square = 0.4756839274931203\n"
     ]
    }
   ],
   "source": [
    "calculateRsquare(X_val_tree, y_val_tree_adr, y_result)"
   ]
  },
  {
   "cell_type": "markdown",
   "metadata": {},
   "source": [
    "### Logistic Regression"
   ]
  },
  {
   "cell_type": "markdown",
   "metadata": {},
   "source": [
    "使用 L2 regularization, 搭配上'sag'solver"
   ]
  },
  {
   "cell_type": "code",
   "execution_count": 74,
   "metadata": {},
   "outputs": [],
   "source": [
    "from sklearn.linear_model import LogisticRegression\n",
    "from sklearn.metrics import accuracy_score\n",
    "\n",
    "\n",
    "### solver: lbfgs, newton-cg, sag\n",
    "def trainLogisticRegression(X_train, y_train, X_val):\n",
    "    clf = LogisticRegression(random_state=0, penalty='l2', solver='newton-cg', multi_class='multinomial').fit(X_train, y_train)\n",
    "    y_result = clf.predict(X_val)\n",
    "    return(y_result)"
   ]
  },
  {
   "cell_type": "code",
   "execution_count": 118,
   "metadata": {},
   "outputs": [
    {
     "name": "stderr",
     "output_type": "stream",
     "text": [
      "C:\\Users\\user\\Anaconda3\\lib\\site-packages\\scipy\\optimize\\linesearch.py:477: LineSearchWarning: The line search algorithm did not converge\n",
      "  warn('The line search algorithm did not converge', LineSearchWarning)\n",
      "C:\\Users\\user\\Anaconda3\\lib\\site-packages\\scipy\\optimize\\linesearch.py:327: LineSearchWarning: The line search algorithm did not converge\n",
      "  warn('The line search algorithm did not converge', LineSearchWarning)\n",
      "C:\\Users\\user\\Anaconda3\\lib\\site-packages\\sklearn\\utils\\optimize.py:212: ConvergenceWarning: newton-cg failed to converge. Increase the number of iterations.\n",
      "  \"number of iterations.\", ConvergenceWarning)\n"
     ]
    }
   ],
   "source": [
    "y_result = trainLogisticRegression(X_train, y_train_isCan, X_val)"
   ]
  },
  {
   "cell_type": "code",
   "execution_count": 119,
   "metadata": {},
   "outputs": [
    {
     "name": "stdout",
     "output_type": "stream",
     "text": [
      "Accuracy = 0.7870925215723873\n",
      "Number of mislabeled points out of a total 16688 points : 3553\n",
      "E_val =  0.21290747842761265\n"
     ]
    }
   ],
   "source": [
    "computeAccuracy(X_val, y_val_isCan, y_result)"
   ]
  },
  {
   "cell_type": "markdown",
   "metadata": {},
   "source": [
    "### SVM"
   ]
  },
  {
   "cell_type": "code",
   "execution_count": null,
   "metadata": {},
   "outputs": [],
   "source": [
    "import numpy as np\n",
    "import sys\n",
    "sys.path.insert(1, '.')\n",
    "from svmutil import *"
   ]
  },
  {
   "cell_type": "code",
   "execution_count": null,
   "metadata": {},
   "outputs": [],
   "source": [
    "def toSVMdata(X, y): \n",
    "    N, d = X_train.shape\n",
    "    X_svm = []\n",
    "    for n in range(N):\n",
    "        X_svm.append({})\n",
    "        for i in range(d):\n",
    "            X_svm[n].update({i: X_train[n,i]}) \n",
    "    y_svm = list(y)\n",
    "    return X_svm, y_svm"
   ]
  },
  {
   "cell_type": "code",
   "execution_count": null,
   "metadata": {},
   "outputs": [],
   "source": [
    "def SVM (Xtrain, ytrain, Xval, yval):\n",
    "    bestaccu = 0\n",
    "    for i in range(-2, 3):\n",
    "        c = pow(10, i)\n",
    "        # turn into SVM data form\n",
    "        Xval, yval = toSVMdata(Xval, yval)\n",
    "        Xtrain, ytrain = toSVMdata(Xtrain, ytrain)\n",
    "        # train and prediction\n",
    "        model = svm_train(ytrain, Xtrain, '-s 0 -t 0 -c {C}'.format(C = c))\n",
    "        print(\"with C =\", c, \",\", end = \"\")\n",
    "        p_label, p_acc, p_val = svm_predict(yval, Xval, model)\n",
    "        if (p_acc[0] > bestaccu):\n",
    "            bestaccu = p_acc[0]\n",
    "    bestaccu /= 100\n",
    "    return bestaccu"
   ]
  },
  {
   "cell_type": "code",
   "execution_count": null,
   "metadata": {},
   "outputs": [],
   "source": [
    "a = X_train.to_numpy()\n",
    "b = y_train_isCan.to_numpy()\n",
    "print(type(a))\n",
    "print(type(b))\n",
    "X_train_svm, y_train_svm = toSVMdata(X_train.to_numpy(), y_train_isCan.to_numpy())\n",
    "X_val_svm, y_val_svm = toSVMdata(X_val, y_val_isCan)\n",
    "accuracy = SVM(X_train_svm, y_train_svm, X_val_svm, y_val_svm)\n",
    "print(\"E_val =\", 1 - accuracy)"
   ]
  },
  {
   "cell_type": "markdown",
   "metadata": {},
   "source": [
    "### GussianNB"
   ]
  },
  {
   "cell_type": "code",
   "execution_count": 80,
   "metadata": {},
   "outputs": [],
   "source": [
    "from sklearn.naive_bayes import GaussianNB\n",
    "\n",
    "def trainGussianNB(X_train, y_train, X_val):\n",
    "    clf = GaussianNB().fit(X_train, y_train)\n",
    "    y_result = clf.predict(X_val)\n",
    "    return(y_result)"
   ]
  },
  {
   "cell_type": "code",
   "execution_count": 84,
   "metadata": {},
   "outputs": [],
   "source": [
    "y_result = trainGussianNB(X_train, y_train_isCan, X_val)"
   ]
  },
  {
   "cell_type": "code",
   "execution_count": 85,
   "metadata": {},
   "outputs": [
    {
     "name": "stdout",
     "output_type": "stream",
     "text": [
      "Accuracy = 0.7596476510067114\n",
      "Number of mislabeled points out of a total 16688 points : 4011\n",
      "E_val =  0.24035234899328858\n"
     ]
    }
   ],
   "source": [
    "computeAccuracy(X_val, y_val_isCan, y_result)"
   ]
  },
  {
   "cell_type": "markdown",
   "metadata": {},
   "source": [
    "## Predict adr"
   ]
  },
  {
   "cell_type": "markdown",
   "metadata": {},
   "source": [
    "### Neural Network"
   ]
  },
  {
   "cell_type": "code",
   "execution_count": 45,
   "metadata": {},
   "outputs": [],
   "source": [
    "\n",
    "\n",
    "# def trainNeural(X_train, y_train, X_val):\n",
    "#     clf = MLPClassifier(solver='lbfgs', alpha=1e-5,hidden_layer_sizes=(5, 2), random_state=1).fit(X_train, y_train)\n",
    "#     y_result = clf.predict(X_val)\n",
    "#     return(y_result)"
   ]
  },
  {
   "cell_type": "code",
   "execution_count": 3,
   "metadata": {},
   "outputs": [],
   "source": [
    "from sklearn.neural_network import MLPRegressor\n",
    "\n",
    "def trainNeural(X_train, y_train, X_val):\n",
    "    clf = MLPRegressor(random_state=1, max_iter=500).fit(X_train, y_train)\n",
    "    y_result = clf.predict(X_val)\n",
    "    return(y_result)"
   ]
  },
  {
   "cell_type": "code",
   "execution_count": 1,
   "metadata": {},
   "outputs": [
    {
     "ename": "NameError",
     "evalue": "name 'trainNeural' is not defined",
     "output_type": "error",
     "traceback": [
      "\u001b[0;31m---------------------------------------------------------------------------\u001b[0m",
      "\u001b[0;31mNameError\u001b[0m                                 Traceback (most recent call last)",
      "\u001b[0;32m<ipython-input-1-945bfdeb9461>\u001b[0m in \u001b[0;36m<module>\u001b[0;34m\u001b[0m\n\u001b[0;32m----> 1\u001b[0;31m \u001b[0my_result\u001b[0m \u001b[0;34m=\u001b[0m \u001b[0mtrainNeural\u001b[0m\u001b[0;34m(\u001b[0m\u001b[0mX_train\u001b[0m\u001b[0;34m,\u001b[0m \u001b[0my_train_adr\u001b[0m\u001b[0;34m,\u001b[0m \u001b[0mX_val\u001b[0m\u001b[0;34m)\u001b[0m\u001b[0;34m\u001b[0m\u001b[0;34m\u001b[0m\u001b[0m\n\u001b[0m",
      "\u001b[0;31mNameError\u001b[0m: name 'trainNeural' is not defined"
     ]
    }
   ],
   "source": [
    "y_result = trainNeural(X_train, y_train_adr, X_val)"
   ]
  },
  {
   "cell_type": "code",
   "execution_count": 2,
   "metadata": {},
   "outputs": [
    {
     "ename": "NameError",
     "evalue": "name 'calculateRsquare' is not defined",
     "output_type": "error",
     "traceback": [
      "\u001b[0;31m---------------------------------------------------------------------------\u001b[0m",
      "\u001b[0;31mNameError\u001b[0m                                 Traceback (most recent call last)",
      "\u001b[0;32m<ipython-input-2-956b2f2af585>\u001b[0m in \u001b[0;36m<module>\u001b[0;34m\u001b[0m\n\u001b[0;32m----> 1\u001b[0;31m \u001b[0mcalculateRsquare\u001b[0m\u001b[0;34m(\u001b[0m\u001b[0mX_val\u001b[0m\u001b[0;34m,\u001b[0m \u001b[0my_val_adr\u001b[0m\u001b[0;34m,\u001b[0m \u001b[0my_result\u001b[0m\u001b[0;34m)\u001b[0m\u001b[0;34m\u001b[0m\u001b[0;34m\u001b[0m\u001b[0m\n\u001b[0m",
      "\u001b[0;31mNameError\u001b[0m: name 'calculateRsquare' is not defined"
     ]
    }
   ],
   "source": [
    "calculateRsquare(X_val, y_val_adr, y_result)"
   ]
  },
  {
   "cell_type": "markdown",
   "metadata": {},
   "source": [
    "### Linear Regression"
   ]
  },
  {
   "cell_type": "code",
   "execution_count": 22,
   "metadata": {},
   "outputs": [],
   "source": [
    "from sklearn.linear_model import LinearRegression\n",
    "\n",
    "def trainLinearRegression(X_train_adr, y_train_adr, X_val_adr):\n",
    "    clf = LinearRegression().fit(X_train_adr, y_train_adr)\n",
    "    y_result = clf.predict(X_val_adr)\n",
    "    return(y_result)"
   ]
  },
  {
   "cell_type": "code",
   "execution_count": 23,
   "metadata": {},
   "outputs": [],
   "source": [
    "y_result = trainLinearRegression(X_train, y_train_adr, X_val)"
   ]
  },
  {
   "cell_type": "code",
   "execution_count": 24,
   "metadata": {},
   "outputs": [
    {
     "name": "stdout",
     "output_type": "stream",
     "text": [
      "R square = 0.4406583693111038\n"
     ]
    }
   ],
   "source": [
    "calculateRsquare(X_val, y_val_adr, y_result)"
   ]
  },
  {
   "cell_type": "markdown",
   "metadata": {},
   "source": [
    "### Random Forest Regression"
   ]
  },
  {
   "cell_type": "code",
   "execution_count": 27,
   "metadata": {},
   "outputs": [],
   "source": [
    "def trainRFR(X, y):\n",
    "    rfr = RandomForestRegressor(random_state=False)\n",
    "    rfr.fit(X, y)\n",
    "    y_result = rfr.predict(X)\n",
    "    return y_result;"
   ]
  },
  {
   "cell_type": "code",
   "execution_count": 31,
   "metadata": {},
   "outputs": [
    {
     "name": "stdout",
     "output_type": "stream",
     "text": [
      "R square = 0.9669126829210924\n"
     ]
    }
   ],
   "source": [
    "y_result = trainRFR(X_train, y_train_adr)\n",
    "calculateRsquare(X_train, y_train_adr, y_result)"
   ]
  },
  {
   "cell_type": "markdown",
   "metadata": {},
   "source": [
    "### AdaboostClassifier (for is_canceled)"
   ]
  },
  {
   "cell_type": "markdown",
   "metadata": {},
   "source": [
    "from sklearn.ensemble import AdaBoostClassifier\n",
    "from sklearn.datasets import make_classification\n",
    "\n",
    "\n",
    "def AdaboostClassifier(x, y):\n",
    "    clf = AdaBoostClassifier(n_estimators=100, random_state=0, algorithm='SAMME')\n",
    "    clf.fit(x, y) \n",
    "    y_result = clf.predict(x)\n",
    "    return(y_result)\n",
    "    "
   ]
  },
  {
   "cell_type": "markdown",
   "metadata": {},
   "source": [
    "### Calculate predicted daily revenue"
   ]
  },
  {
   "cell_type": "code",
   "execution_count": 86,
   "metadata": {},
   "outputs": [],
   "source": [
    "def calculateDateRevenue(df):\n",
    "    df1 = df[[\"arrival_date_year\", \"arrival_date_month\", \"arrival_date_day_of_month\", \"adr\", \"is_canceled\", \"stays_in_weekend_nights\", \"stays_in_week_nights\"]]\n",
    "    df1[\"revenue\"] = (1 - df1[\"is_canceled\"]) * df1[\"adr\"] * (df1[\"stays_in_week_nights\"] + df1[\"stays_in_weekend_nights\"])\n",
    "    df2 = df1[[\"arrival_date_year\", \"arrival_date_month\", \"arrival_date_day_of_month\", \"revenue\"]]\n",
    "    df3 = df2.groupby(by=[\"arrival_date_year\", \"arrival_date_month\", \"arrival_date_day_of_month\"]).sum()\n",
    "#     print(df3)\n",
    "    x = df3.to_numpy()\n",
    "    return(x) # one column: revenue"
   ]
  },
  {
   "cell_type": "markdown",
   "metadata": {},
   "source": [
    "## Revenue to label "
   ]
  },
  {
   "cell_type": "code",
   "execution_count": 87,
   "metadata": {},
   "outputs": [
    {
     "name": "stdout",
     "output_type": "stream",
     "text": [
      "519\n",
      "121\n"
     ]
    },
    {
     "name": "stderr",
     "output_type": "stream",
     "text": [
      "/Users/joannehuang/anaconda3/lib/python3.6/site-packages/ipykernel_launcher.py:3: SettingWithCopyWarning: \n",
      "A value is trying to be set on a copy of a slice from a DataFrame.\n",
      "Try using .loc[row_indexer,col_indexer] = value instead\n",
      "\n",
      "See the caveats in the documentation: https://pandas.pydata.org/pandas-docs/stable/user_guide/indexing.html#returning-a-view-versus-a-copy\n",
      "  This is separate from the ipykernel package so we can avoid doing imports until\n"
     ]
    }
   ],
   "source": [
    "X_train_revenue = calculateDateRevenue(df_train)\n",
    "print(len(X_train_revenue))\n",
    "X_val_revenue = calculateDateRevenue(df_val)\n",
    "print(len(X_val_revenue))"
   ]
  },
  {
   "cell_type": "code",
   "execution_count": 88,
   "metadata": {},
   "outputs": [],
   "source": [
    "label[\"ID\"] = label.index\n",
    "label_train = label.loc[:518, :]\n",
    "label_val = label.loc[519:, :]"
   ]
  },
  {
   "cell_type": "code",
   "execution_count": 89,
   "metadata": {},
   "outputs": [
    {
     "name": "stdout",
     "output_type": "stream",
     "text": [
      "519\n",
      "121\n"
     ]
    }
   ],
   "source": [
    "y_train_label = label_train[\"label\"].to_numpy()\n",
    "print(len(y_train_label))\n",
    "y_val_label = label_val[\"label\"].to_numpy()\n",
    "print(len(y_val_label))"
   ]
  },
  {
   "cell_type": "markdown",
   "metadata": {},
   "source": [
    "### KNN"
   ]
  },
  {
   "cell_type": "code",
   "execution_count": 50,
   "metadata": {},
   "outputs": [
    {
     "name": "stdout",
     "output_type": "stream",
     "text": [
      "Pre-processing...\n",
      "Fitting...\n",
      "Predicting...\n",
      "Calculating accuracy...\n"
     ]
    }
   ],
   "source": [
    "y_result = trainKNN(X_train_revenue, y_train_label, 5, X_val_revenue, y_val_label)"
   ]
  },
  {
   "cell_type": "code",
   "execution_count": 54,
   "metadata": {},
   "outputs": [
    {
     "data": {
      "text/plain": [
       "2"
      ]
     },
     "execution_count": 54,
     "metadata": {},
     "output_type": "execute_result"
    }
   ],
   "source": [
    "len(y_result)"
   ]
  },
  {
   "cell_type": "code",
   "execution_count": 52,
   "metadata": {},
   "outputs": [
    {
     "ename": "ValueError",
     "evalue": "Found input variables with inconsistent numbers of samples: [121, 2]",
     "output_type": "error",
     "traceback": [
      "\u001b[0;31m---------------------------------------------------------------------------\u001b[0m",
      "\u001b[0;31mValueError\u001b[0m                                Traceback (most recent call last)",
      "\u001b[0;32m<ipython-input-52-60781ed65eb8>\u001b[0m in \u001b[0;36m<module>\u001b[0;34m\u001b[0m\n\u001b[0;32m----> 1\u001b[0;31m \u001b[0mcomputeAccuracy\u001b[0m\u001b[0;34m(\u001b[0m\u001b[0mX_val_revenue\u001b[0m\u001b[0;34m,\u001b[0m \u001b[0my_val_label\u001b[0m\u001b[0;34m,\u001b[0m \u001b[0my_result\u001b[0m\u001b[0;34m)\u001b[0m\u001b[0;34m\u001b[0m\u001b[0;34m\u001b[0m\u001b[0m\n\u001b[0m",
      "\u001b[0;32m<ipython-input-23-886eb741586e>\u001b[0m in \u001b[0;36mcomputeAccuracy\u001b[0;34m(X, y, y_result)\u001b[0m\n\u001b[1;32m      1\u001b[0m \u001b[0;32mfrom\u001b[0m \u001b[0msklearn\u001b[0m\u001b[0;34m.\u001b[0m\u001b[0mmetrics\u001b[0m \u001b[0;32mimport\u001b[0m \u001b[0maccuracy_score\u001b[0m\u001b[0;34m\u001b[0m\u001b[0;34m\u001b[0m\u001b[0m\n\u001b[1;32m      2\u001b[0m \u001b[0;32mdef\u001b[0m \u001b[0mcomputeAccuracy\u001b[0m\u001b[0;34m(\u001b[0m\u001b[0mX\u001b[0m\u001b[0;34m,\u001b[0m \u001b[0my\u001b[0m\u001b[0;34m,\u001b[0m \u001b[0my_result\u001b[0m\u001b[0;34m)\u001b[0m\u001b[0;34m:\u001b[0m \u001b[0;31m#x: test revenue, y: test label\u001b[0m\u001b[0;34m\u001b[0m\u001b[0;34m\u001b[0m\u001b[0m\n\u001b[0;32m----> 3\u001b[0;31m     \u001b[0mprint\u001b[0m\u001b[0;34m(\u001b[0m\u001b[0;34m\"Accuracy =\"\u001b[0m\u001b[0;34m,\u001b[0m \u001b[0maccuracy_score\u001b[0m\u001b[0;34m(\u001b[0m\u001b[0my\u001b[0m\u001b[0;34m,\u001b[0m \u001b[0my_result\u001b[0m\u001b[0;34m)\u001b[0m\u001b[0;34m)\u001b[0m\u001b[0;34m\u001b[0m\u001b[0;34m\u001b[0m\u001b[0m\n\u001b[0m\u001b[1;32m      4\u001b[0m     \u001b[0mprint\u001b[0m\u001b[0;34m(\u001b[0m\u001b[0;34m\"Number of mislabeled points out of a total %d points : %d\"\u001b[0m\u001b[0;34m%\u001b[0m \u001b[0;34m(\u001b[0m\u001b[0mX\u001b[0m\u001b[0;34m.\u001b[0m\u001b[0mshape\u001b[0m\u001b[0;34m[\u001b[0m\u001b[0;36m0\u001b[0m\u001b[0;34m]\u001b[0m\u001b[0;34m,\u001b[0m\u001b[0;34m(\u001b[0m\u001b[0my\u001b[0m \u001b[0;34m!=\u001b[0m \u001b[0my_result\u001b[0m\u001b[0;34m)\u001b[0m\u001b[0;34m.\u001b[0m\u001b[0msum\u001b[0m\u001b[0;34m(\u001b[0m\u001b[0;34m)\u001b[0m\u001b[0;34m)\u001b[0m\u001b[0;34m)\u001b[0m\u001b[0;34m\u001b[0m\u001b[0;34m\u001b[0m\u001b[0m\n\u001b[1;32m      5\u001b[0m     \u001b[0mprint\u001b[0m\u001b[0;34m(\u001b[0m\u001b[0;34m\"E_val = \"\u001b[0m\u001b[0;34m,\u001b[0m \u001b[0;34m(\u001b[0m\u001b[0my\u001b[0m \u001b[0;34m!=\u001b[0m \u001b[0my_result\u001b[0m\u001b[0;34m)\u001b[0m\u001b[0;34m.\u001b[0m\u001b[0msum\u001b[0m\u001b[0;34m(\u001b[0m\u001b[0;34m)\u001b[0m \u001b[0;34m/\u001b[0m \u001b[0mX\u001b[0m\u001b[0;34m.\u001b[0m\u001b[0mshape\u001b[0m\u001b[0;34m[\u001b[0m\u001b[0;36m0\u001b[0m\u001b[0;34m]\u001b[0m\u001b[0;34m)\u001b[0m\u001b[0;34m\u001b[0m\u001b[0;34m\u001b[0m\u001b[0m\n",
      "\u001b[0;32m~/anaconda3/lib/python3.6/site-packages/sklearn/utils/validation.py\u001b[0m in \u001b[0;36minner_f\u001b[0;34m(*args, **kwargs)\u001b[0m\n\u001b[1;32m     70\u001b[0m                           FutureWarning)\n\u001b[1;32m     71\u001b[0m         \u001b[0mkwargs\u001b[0m\u001b[0;34m.\u001b[0m\u001b[0mupdate\u001b[0m\u001b[0;34m(\u001b[0m\u001b[0;34m{\u001b[0m\u001b[0mk\u001b[0m\u001b[0;34m:\u001b[0m \u001b[0marg\u001b[0m \u001b[0;32mfor\u001b[0m \u001b[0mk\u001b[0m\u001b[0;34m,\u001b[0m \u001b[0marg\u001b[0m \u001b[0;32min\u001b[0m \u001b[0mzip\u001b[0m\u001b[0;34m(\u001b[0m\u001b[0msig\u001b[0m\u001b[0;34m.\u001b[0m\u001b[0mparameters\u001b[0m\u001b[0;34m,\u001b[0m \u001b[0margs\u001b[0m\u001b[0;34m)\u001b[0m\u001b[0;34m}\u001b[0m\u001b[0;34m)\u001b[0m\u001b[0;34m\u001b[0m\u001b[0;34m\u001b[0m\u001b[0m\n\u001b[0;32m---> 72\u001b[0;31m         \u001b[0;32mreturn\u001b[0m \u001b[0mf\u001b[0m\u001b[0;34m(\u001b[0m\u001b[0;34m**\u001b[0m\u001b[0mkwargs\u001b[0m\u001b[0;34m)\u001b[0m\u001b[0;34m\u001b[0m\u001b[0;34m\u001b[0m\u001b[0m\n\u001b[0m\u001b[1;32m     73\u001b[0m     \u001b[0;32mreturn\u001b[0m \u001b[0minner_f\u001b[0m\u001b[0;34m\u001b[0m\u001b[0;34m\u001b[0m\u001b[0m\n\u001b[1;32m     74\u001b[0m \u001b[0;34m\u001b[0m\u001b[0m\n",
      "\u001b[0;32m~/anaconda3/lib/python3.6/site-packages/sklearn/metrics/_classification.py\u001b[0m in \u001b[0;36maccuracy_score\u001b[0;34m(y_true, y_pred, normalize, sample_weight)\u001b[0m\n\u001b[1;32m    185\u001b[0m \u001b[0;34m\u001b[0m\u001b[0m\n\u001b[1;32m    186\u001b[0m     \u001b[0;31m# Compute accuracy for each possible representation\u001b[0m\u001b[0;34m\u001b[0m\u001b[0;34m\u001b[0m\u001b[0;34m\u001b[0m\u001b[0m\n\u001b[0;32m--> 187\u001b[0;31m     \u001b[0my_type\u001b[0m\u001b[0;34m,\u001b[0m \u001b[0my_true\u001b[0m\u001b[0;34m,\u001b[0m \u001b[0my_pred\u001b[0m \u001b[0;34m=\u001b[0m \u001b[0m_check_targets\u001b[0m\u001b[0;34m(\u001b[0m\u001b[0my_true\u001b[0m\u001b[0;34m,\u001b[0m \u001b[0my_pred\u001b[0m\u001b[0;34m)\u001b[0m\u001b[0;34m\u001b[0m\u001b[0;34m\u001b[0m\u001b[0m\n\u001b[0m\u001b[1;32m    188\u001b[0m     \u001b[0mcheck_consistent_length\u001b[0m\u001b[0;34m(\u001b[0m\u001b[0my_true\u001b[0m\u001b[0;34m,\u001b[0m \u001b[0my_pred\u001b[0m\u001b[0;34m,\u001b[0m \u001b[0msample_weight\u001b[0m\u001b[0;34m)\u001b[0m\u001b[0;34m\u001b[0m\u001b[0;34m\u001b[0m\u001b[0m\n\u001b[1;32m    189\u001b[0m     \u001b[0;32mif\u001b[0m \u001b[0my_type\u001b[0m\u001b[0;34m.\u001b[0m\u001b[0mstartswith\u001b[0m\u001b[0;34m(\u001b[0m\u001b[0;34m'multilabel'\u001b[0m\u001b[0;34m)\u001b[0m\u001b[0;34m:\u001b[0m\u001b[0;34m\u001b[0m\u001b[0;34m\u001b[0m\u001b[0m\n",
      "\u001b[0;32m~/anaconda3/lib/python3.6/site-packages/sklearn/metrics/_classification.py\u001b[0m in \u001b[0;36m_check_targets\u001b[0;34m(y_true, y_pred)\u001b[0m\n\u001b[1;32m     79\u001b[0m     \u001b[0my_pred\u001b[0m \u001b[0;34m:\u001b[0m \u001b[0marray\u001b[0m \u001b[0;32mor\u001b[0m \u001b[0mindicator\u001b[0m \u001b[0mmatrix\u001b[0m\u001b[0;34m\u001b[0m\u001b[0;34m\u001b[0m\u001b[0m\n\u001b[1;32m     80\u001b[0m     \"\"\"\n\u001b[0;32m---> 81\u001b[0;31m     \u001b[0mcheck_consistent_length\u001b[0m\u001b[0;34m(\u001b[0m\u001b[0my_true\u001b[0m\u001b[0;34m,\u001b[0m \u001b[0my_pred\u001b[0m\u001b[0;34m)\u001b[0m\u001b[0;34m\u001b[0m\u001b[0;34m\u001b[0m\u001b[0m\n\u001b[0m\u001b[1;32m     82\u001b[0m     \u001b[0mtype_true\u001b[0m \u001b[0;34m=\u001b[0m \u001b[0mtype_of_target\u001b[0m\u001b[0;34m(\u001b[0m\u001b[0my_true\u001b[0m\u001b[0;34m)\u001b[0m\u001b[0;34m\u001b[0m\u001b[0;34m\u001b[0m\u001b[0m\n\u001b[1;32m     83\u001b[0m     \u001b[0mtype_pred\u001b[0m \u001b[0;34m=\u001b[0m \u001b[0mtype_of_target\u001b[0m\u001b[0;34m(\u001b[0m\u001b[0my_pred\u001b[0m\u001b[0;34m)\u001b[0m\u001b[0;34m\u001b[0m\u001b[0;34m\u001b[0m\u001b[0m\n",
      "\u001b[0;32m~/anaconda3/lib/python3.6/site-packages/sklearn/utils/validation.py\u001b[0m in \u001b[0;36mcheck_consistent_length\u001b[0;34m(*arrays)\u001b[0m\n\u001b[1;32m    254\u001b[0m     \u001b[0;32mif\u001b[0m \u001b[0mlen\u001b[0m\u001b[0;34m(\u001b[0m\u001b[0muniques\u001b[0m\u001b[0;34m)\u001b[0m \u001b[0;34m>\u001b[0m \u001b[0;36m1\u001b[0m\u001b[0;34m:\u001b[0m\u001b[0;34m\u001b[0m\u001b[0;34m\u001b[0m\u001b[0m\n\u001b[1;32m    255\u001b[0m         raise ValueError(\"Found input variables with inconsistent numbers of\"\n\u001b[0;32m--> 256\u001b[0;31m                          \" samples: %r\" % [int(l) for l in lengths])\n\u001b[0m\u001b[1;32m    257\u001b[0m \u001b[0;34m\u001b[0m\u001b[0m\n\u001b[1;32m    258\u001b[0m \u001b[0;34m\u001b[0m\u001b[0m\n",
      "\u001b[0;31mValueError\u001b[0m: Found input variables with inconsistent numbers of samples: [121, 2]"
     ]
    }
   ],
   "source": [
    "computeAccuracy(X_val_revenue, y_val_label, y_result)"
   ]
  },
  {
   "cell_type": "markdown",
   "metadata": {},
   "source": [
    "### Desicion Stump "
   ]
  },
  {
   "cell_type": "code",
   "execution_count": 90,
   "metadata": {},
   "outputs": [
    {
     "name": "stdout",
     "output_type": "stream",
     "text": [
      "519\n",
      "519\n",
      "121\n",
      "121\n",
      "74843\n"
     ]
    }
   ],
   "source": [
    "print(len(X_train_revenue))\n",
    "print(len(y_train_label))\n",
    "print(len(X_val_revenue))\n",
    "print(len(y_val_label))\n",
    "print(len(y_result))"
   ]
  },
  {
   "cell_type": "code",
   "execution_count": 91,
   "metadata": {},
   "outputs": [],
   "source": [
    "y_result = trainDecisionStump(X_train_revenue, y_train_label, X_val_revenue)"
   ]
  },
  {
   "cell_type": "code",
   "execution_count": 92,
   "metadata": {},
   "outputs": [
    {
     "name": "stdout",
     "output_type": "stream",
     "text": [
      "Accuracy = 0.15702479338842976\n",
      "Number of mislabeled points out of a total 121 points : 102\n",
      "E_val =  0.8429752066115702\n"
     ]
    }
   ],
   "source": [
    "computeAccuracy(X_val_revenue, y_val_label, y_result)"
   ]
  },
  {
   "cell_type": "markdown",
   "metadata": {},
   "source": [
    "### Logistic Regression"
   ]
  },
  {
   "cell_type": "code",
   "execution_count": 77,
   "metadata": {},
   "outputs": [
    {
     "name": "stderr",
     "output_type": "stream",
     "text": [
      "/Users/joannehuang/anaconda3/lib/python3.6/site-packages/scipy/optimize/linesearch.py:466: LineSearchWarning: The line search algorithm did not converge\n",
      "  warn('The line search algorithm did not converge', LineSearchWarning)\n",
      "/Users/joannehuang/anaconda3/lib/python3.6/site-packages/scipy/optimize/linesearch.py:314: LineSearchWarning: The line search algorithm did not converge\n",
      "  warn('The line search algorithm did not converge', LineSearchWarning)\n",
      "/Users/joannehuang/anaconda3/lib/python3.6/site-packages/sklearn/utils/optimize.py:212: ConvergenceWarning: newton-cg failed to converge. Increase the number of iterations.\n",
      "  \"number of iterations.\", ConvergenceWarning)\n"
     ]
    }
   ],
   "source": [
    "y_result = trainLogisticRegression(X_train_revenue, y_train_label, X_val_revenue)"
   ]
  },
  {
   "cell_type": "code",
   "execution_count": 78,
   "metadata": {},
   "outputs": [
    {
     "name": "stdout",
     "output_type": "stream",
     "text": [
      "Accuracy = 0.30578512396694213\n",
      "Number of mislabeled points out of a total 121 points : 84\n",
      "E_val =  0.6942148760330579\n"
     ]
    }
   ],
   "source": [
    "computeAccuracy(X_val_revenue, y_val_label, y_result)"
   ]
  },
  {
   "cell_type": "markdown",
   "metadata": {},
   "source": [
    "### SVM"
   ]
  },
  {
   "cell_type": "code",
   "execution_count": 105,
   "metadata": {},
   "outputs": [],
   "source": [
    "y_result = trainSVM(X_train_revenue, y_train_label, X_val_revenue)"
   ]
  },
  {
   "cell_type": "code",
   "execution_count": 78,
   "metadata": {},
   "outputs": [
    {
     "name": "stdout",
     "output_type": "stream",
     "text": [
      "Accuracy = 0.38016528925619836\n",
      "Number of mislabeled points out of a total 121 points : 75\n",
      "E_val =  0.6198347107438017\n"
     ]
    }
   ],
   "source": [
    "computeAccuracy(X_val_revenue, y_val_label, y_result)"
   ]
  },
  {
   "cell_type": "markdown",
   "metadata": {},
   "source": [
    "### GuassianNB"
   ]
  },
  {
   "cell_type": "code",
   "execution_count": 81,
   "metadata": {},
   "outputs": [],
   "source": [
    "y_result = trainGussianNB(X_train_revenue, y_train_label, X_val_revenue)"
   ]
  },
  {
   "cell_type": "code",
   "execution_count": 82,
   "metadata": {},
   "outputs": [
    {
     "name": "stdout",
     "output_type": "stream",
     "text": [
      "Accuracy = 0.30578512396694213\n",
      "Number of mislabeled points out of a total 121 points : 84\n",
      "E_val =  0.6942148760330579\n"
     ]
    }
   ],
   "source": [
    "computeAccuracy(X_val_revenue, y_val_label, y_result)"
   ]
  },
  {
   "cell_type": "markdown",
   "metadata": {},
   "source": [
    "## Test"
   ]
  },
  {
   "cell_type": "code",
   "execution_count": null,
   "metadata": {},
   "outputs": [],
   "source": [
    "isCan = trainLogisticRegression(X_train, y_train_isCan, X_test)\n"
   ]
  }
 ],
 "metadata": {
  "kernelspec": {
   "display_name": "Python 3",
   "language": "python",
   "name": "python3"
  },
  "language_info": {
   "codemirror_mode": {
    "name": "ipython",
    "version": 3
   },
   "file_extension": ".py",
   "mimetype": "text/x-python",
   "name": "python",
   "nbconvert_exporter": "python",
   "pygments_lexer": "ipython3",
   "version": "3.6.8"
  }
 },
 "nbformat": 4,
 "nbformat_minor": 4
}
