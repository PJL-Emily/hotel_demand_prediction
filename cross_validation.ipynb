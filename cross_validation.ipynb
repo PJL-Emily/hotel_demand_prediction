{
 "cells": [
  {
   "cell_type": "code",
   "execution_count": 2,
   "metadata": {},
   "outputs": [],
   "source": [
    "import numpy as np"
   ]
  },
  {
   "cell_type": "code",
   "execution_count": 3,
   "metadata": {},
   "outputs": [],
   "source": [
    "# NOTICE: func must be in the form of func(Dtrain, Dval) and returns err\n",
    "def NfoldCrossValid (N, data, func):\n",
    "    totalerr = 0\n",
    "    for i in range(N):\n",
    "        # split data into N folds\n",
    "        D = np.split(data, N)\n",
    "        Dval = D[i % N]\n",
    "        Dtrain = np.vstack(D[(i + 1) % N], D[(i + 2) % N])\n",
    "        for j in range((i + 3) % N, N):\n",
    "            Dtrain = np.vstack(Dtrain, D[(i + j) % N])\n",
    "        # calculate error\n",
    "        totalerr += func(Dtrain, Dval)\n",
    "    Ecv = totalerr / N\n",
    "    return Ecv"
   ]
  }
 ],
 "metadata": {
  "kernelspec": {
   "display_name": "Python 3",
   "language": "python",
   "name": "python3"
  },
  "language_info": {
   "codemirror_mode": {
    "name": "ipython",
    "version": 3
   },
   "file_extension": ".py",
   "mimetype": "text/x-python",
   "name": "python",
   "nbconvert_exporter": "python",
   "pygments_lexer": "ipython3",
   "version": "3.7.3"
  }
 },
 "nbformat": 4,
 "nbformat_minor": 2
}
